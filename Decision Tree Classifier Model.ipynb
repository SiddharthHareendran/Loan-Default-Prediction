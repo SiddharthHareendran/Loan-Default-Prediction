{
 "cells": [
  {
   "cell_type": "markdown",
   "metadata": {},
   "source": [
    "# Decision Tree Classifier "
   ]
  },
  {
   "cell_type": "code",
   "execution_count": null,
   "metadata": {},
   "outputs": [],
   "source": [
    "#Decision Tree with hyperparameter tuning\n",
    "from sklearn.tree import DecisionTreeClassifier\n",
    "dtree = DecisionTreeClassifier(criterion='gini',random_state=0)\n",
    "param_DT = {'splitter':['best','random'],\"max_depth\": range(1,20),'class_weight':[{0:100,1:1}, {0:10,1:1}, {0:1,1:1}, {0:1,1:10}, {0:1,1:100},'balanced']}\n",
    "grid_dtree1 = GridSearchCV(dtree, param_DT, cv=5, return_train_score = True,scoring=ftwo_scorer)\n",
    "grid_dtree1.fit(X_train, y_train)\n",
    "print(\"Best Mean Cross-validation score: {:.3f}\".format(grid_dtree1.best_score_))\n",
    "print()\n",
    "\n",
    "#find best parameters\n",
    "print('Decision Tree parameters: ', grid_dtree1.best_params_)\n",
    "print(\"Decision Tree Train Performance: \", grid_dtree1.score(X_train,y_train))\n",
    "# Check test data set performance\n",
    "print(\"Decision Tree Test Performance: \", grid_dtree1.score(X_test,y_test))"
   ]
  },
  {
   "cell_type": "markdown",
   "metadata": {},
   "source": [
    "# Result"
   ]
  },
  {
   "cell_type": "markdown",
   "metadata": {},
   "source": [
    "Best Model: Decision Tree Classifier<br>\n",
    "Best Mean Cross Validation Score is 0.864<br>\n",
    "Best Mean Cross Validation params is {'class_weight': {0: 10, 1: 1}, 'max_depth': 4, 'splitter': 'random'}<br>\n",
    "Train score is 0.866<br>\n",
    "Test score is 0.853"
   ]
  }
 ],
 "metadata": {
  "kernelspec": {
   "display_name": "buan6341_2020",
   "language": "python",
   "name": "buan6341_2020"
  },
  "language_info": {
   "codemirror_mode": {
    "name": "ipython",
    "version": 3
   },
   "file_extension": ".py",
   "mimetype": "text/x-python",
   "name": "python",
   "nbconvert_exporter": "python",
   "pygments_lexer": "ipython3",
   "version": "3.7.6"
  },
  "toc": {
   "base_numbering": 1,
   "nav_menu": {},
   "number_sections": true,
   "sideBar": true,
   "skip_h1_title": false,
   "title_cell": "Table of Contents",
   "title_sidebar": "Contents",
   "toc_cell": false,
   "toc_position": {},
   "toc_section_display": true,
   "toc_window_display": false
  }
 },
 "nbformat": 4,
 "nbformat_minor": 2
}
