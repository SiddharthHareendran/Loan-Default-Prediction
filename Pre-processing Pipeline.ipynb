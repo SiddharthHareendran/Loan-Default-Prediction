{
 "cells": [
  {
   "cell_type": "code",
   "execution_count": null,
   "metadata": {},
   "outputs": [],
   "source": [
    "loan_pipe = Pipeline([\n",
    "    \n",
    " ('imputer_num', mdi.MeanMedianImputer(imputation_method='mean',variables=['Credit Score','Annual Income','Months since last delinquent','Bankruptcies','Tax Liens'])),\n",
    " ('imputer_dis', mdi.FrequentCategoryImputer(variables=['Years in current job'])),\n",
    " ('trans', PowerTransformer(variables=continuous)),\n",
    " ('desc', EqualWidthDiscretiser(bins=50, variables = numerical)), \n",
    " ('categorical_encoder', OneHotCategoricalEncoder( top_categories=None, variables=categorical, drop_last=True)),\n",
    " ('robustscaler', RobustScaler(with_centering=False,\n",
    "                             with_scaling=True,\n",
    "                             quantile_range=(0, 100)))\n",
    "])"
   ]
  }
 ],
 "metadata": {
  "kernelspec": {
   "display_name": "buan6341_2020",
   "language": "python",
   "name": "buan6341_2020"
  },
  "language_info": {
   "codemirror_mode": {
    "name": "ipython",
    "version": 3
   },
   "file_extension": ".py",
   "mimetype": "text/x-python",
   "name": "python",
   "nbconvert_exporter": "python",
   "pygments_lexer": "ipython3",
   "version": "3.7.6"
  },
  "toc": {
   "base_numbering": 1,
   "nav_menu": {},
   "number_sections": true,
   "sideBar": true,
   "skip_h1_title": false,
   "title_cell": "Table of Contents",
   "title_sidebar": "Contents",
   "toc_cell": false,
   "toc_position": {},
   "toc_section_display": true,
   "toc_window_display": false
  }
 },
 "nbformat": 4,
 "nbformat_minor": 2
}
