{
 "cells": [
  {
   "cell_type": "markdown",
   "metadata": {},
   "source": [
    "# Data"
   ]
  },
  {
   "cell_type": "markdown",
   "metadata": {},
   "source": [
    "Loan Status Data<br>\n",
    "Objective: Predict if a Loan will be paid or will Default, i.e. NPA(Non performing Asset)<br>\n",
    "17 columns - 10000 rows<br>\n",
    "majority : miniority class = 78 : 22<br>\n",
    "Evaluation Metric: Fbeta Score with Beta=0.2<br>"
   ]
  },
  {
   "cell_type": "markdown",
   "metadata": {},
   "source": [
    "**Evaluation Metric Choice Justification:**<br>\n",
    "Fbeta is the Harmonic Mean of Recall and Precision.\n",
    "\n",
    "The objective of my Model is to predict if a loan will default or not. Objectives of Banks is to give out as much loan out as possible with out those loans going bad since interest rate on loan is how banks make a profit. Hence the prioity of the model is to detect correctly if a Loan will go bad as against a good loan. \n",
    "Hence my model has to correctly identify the a loan will go bad(i.e. 1) at the same time not penalise good customers and wrongly identifing them as defaulters. If good customers are also wrongly identified, bank loses out on a business opportunity. Hence these false positives are given more weightage and hence the very low(<1) beta score.\n",
    "Also due to the imbalanced nature of the data set, fbeta score gives us a result between precision and recall. \n",
    "Hence my chosen metric is Fbeta Score."
   ]
  },
  {
   "cell_type": "markdown",
   "metadata": {},
   "source": [
    "# Result"
   ]
  },
  {
   "cell_type": "markdown",
   "metadata": {},
   "source": [
    "Best Model: Decision Tree Classifier<br>\n",
    "Best Mean Cross Validation Score is 0.864<br>\n",
    "Best Mean Cross Validation params is {'class_weight': {0: 10, 1: 1}, 'max_depth': 4, 'splitter': 'random'}<br>\n",
    "Train score is 0.866<br>\n",
    "Test score is 0.853"
   ]
  },
  {
   "cell_type": "code",
   "execution_count": 292,
   "metadata": {},
   "outputs": [],
   "source": [
    "from math import sqrt\n",
    "import pandas as pd\n",
    "import numpy as np\n",
    "import matplotlib.pyplot as plt\n",
    "import seaborn as sns\n",
    "import scipy.stats as stats\n",
    "\n",
    "# for the model\n",
    "from sklearn.model_selection import train_test_split\n",
    "from sklearn.linear_model import Lasso\n",
    "from sklearn.pipeline import Pipeline\n",
    "from sklearn.metrics import mean_squared_error, r2_score\n",
    "\n",
    "pd.pandas.set_option('display.max_columns', None)\n",
    "%matplotlib inline"
   ]
  },
  {
   "cell_type": "code",
   "execution_count": null,
   "metadata": {},
   "outputs": [],
   "source": [
    "data = pd.read_csv('Loan.csv')\n",
    "data=data.sample(frac=0.1)"
   ]
  },
  {
   "cell_type": "code",
   "execution_count": 968,
   "metadata": {},
   "outputs": [
    {
     "data": {
      "text/html": [
       "<div>\n",
       "<style scoped>\n",
       "    .dataframe tbody tr th:only-of-type {\n",
       "        vertical-align: middle;\n",
       "    }\n",
       "\n",
       "    .dataframe tbody tr th {\n",
       "        vertical-align: top;\n",
       "    }\n",
       "\n",
       "    .dataframe thead th {\n",
       "        text-align: right;\n",
       "    }\n",
       "</style>\n",
       "<table border=\"1\" class=\"dataframe\">\n",
       "  <thead>\n",
       "    <tr style=\"text-align: right;\">\n",
       "      <th></th>\n",
       "      <th>Customer ID</th>\n",
       "      <th>Loan Status</th>\n",
       "      <th>Current Loan Amount</th>\n",
       "      <th>Term</th>\n",
       "      <th>Credit Score</th>\n",
       "      <th>Annual Income</th>\n",
       "      <th>Years in current job</th>\n",
       "      <th>Home Ownership</th>\n",
       "      <th>Purpose</th>\n",
       "      <th>Monthly Debt</th>\n",
       "      <th>Years of Credit History</th>\n",
       "      <th>Months since last delinquent</th>\n",
       "      <th>Number of Open Accounts</th>\n",
       "      <th>Number of Credit Problems</th>\n",
       "      <th>Current Credit Balance</th>\n",
       "      <th>Maximum Open Credit</th>\n",
       "      <th>Bankruptcies</th>\n",
       "      <th>Tax Liens</th>\n",
       "    </tr>\n",
       "  </thead>\n",
       "  <tbody>\n",
       "    <tr>\n",
       "      <th>97048</th>\n",
       "      <td>b0086c9e-4a10-4bea-8859-862df5ed2928</td>\n",
       "      <td>Fully Paid</td>\n",
       "      <td>322344</td>\n",
       "      <td>Short Term</td>\n",
       "      <td>688.0</td>\n",
       "      <td>774668.0</td>\n",
       "      <td>NaN</td>\n",
       "      <td>Home Mortgage</td>\n",
       "      <td>Debt Consolidation</td>\n",
       "      <td>15816.17</td>\n",
       "      <td>20.0</td>\n",
       "      <td>55.0</td>\n",
       "      <td>8</td>\n",
       "      <td>0</td>\n",
       "      <td>458280</td>\n",
       "      <td>587642.0</td>\n",
       "      <td>0.0</td>\n",
       "      <td>0.0</td>\n",
       "    </tr>\n",
       "    <tr>\n",
       "      <th>30851</th>\n",
       "      <td>7ec84c14-9fe0-4f93-bf46-c314ba046c93</td>\n",
       "      <td>Fully Paid</td>\n",
       "      <td>440484</td>\n",
       "      <td>Short Term</td>\n",
       "      <td>NaN</td>\n",
       "      <td>NaN</td>\n",
       "      <td>2 years</td>\n",
       "      <td>Home Mortgage</td>\n",
       "      <td>Debt Consolidation</td>\n",
       "      <td>22096.05</td>\n",
       "      <td>10.0</td>\n",
       "      <td>80.0</td>\n",
       "      <td>8</td>\n",
       "      <td>0</td>\n",
       "      <td>80465</td>\n",
       "      <td>121154.0</td>\n",
       "      <td>0.0</td>\n",
       "      <td>0.0</td>\n",
       "    </tr>\n",
       "    <tr>\n",
       "      <th>64540</th>\n",
       "      <td>3bbd5629-2adc-4223-ab4c-f6c61f3d703b</td>\n",
       "      <td>Charged Off</td>\n",
       "      <td>266860</td>\n",
       "      <td>Short Term</td>\n",
       "      <td>7420.0</td>\n",
       "      <td>1152312.0</td>\n",
       "      <td>9 years</td>\n",
       "      <td>Home Mortgage</td>\n",
       "      <td>Debt Consolidation</td>\n",
       "      <td>12003.25</td>\n",
       "      <td>16.8</td>\n",
       "      <td>NaN</td>\n",
       "      <td>10</td>\n",
       "      <td>1</td>\n",
       "      <td>277191</td>\n",
       "      <td>563068.0</td>\n",
       "      <td>1.0</td>\n",
       "      <td>0.0</td>\n",
       "    </tr>\n",
       "    <tr>\n",
       "      <th>48011</th>\n",
       "      <td>3236d703-48a6-4788-8b34-21065435db2a</td>\n",
       "      <td>Charged Off</td>\n",
       "      <td>224466</td>\n",
       "      <td>Short Term</td>\n",
       "      <td>715.0</td>\n",
       "      <td>775409.0</td>\n",
       "      <td>10+ years</td>\n",
       "      <td>Rent</td>\n",
       "      <td>Debt Consolidation</td>\n",
       "      <td>15895.97</td>\n",
       "      <td>13.0</td>\n",
       "      <td>NaN</td>\n",
       "      <td>10</td>\n",
       "      <td>1</td>\n",
       "      <td>126426</td>\n",
       "      <td>227304.0</td>\n",
       "      <td>1.0</td>\n",
       "      <td>0.0</td>\n",
       "    </tr>\n",
       "    <tr>\n",
       "      <th>10610</th>\n",
       "      <td>f141ebb7-20da-4cdc-b7a3-9d3498d11781</td>\n",
       "      <td>Fully Paid</td>\n",
       "      <td>191026</td>\n",
       "      <td>Short Term</td>\n",
       "      <td>718.0</td>\n",
       "      <td>650636.0</td>\n",
       "      <td>10+ years</td>\n",
       "      <td>Rent</td>\n",
       "      <td>Debt Consolidation</td>\n",
       "      <td>14964.59</td>\n",
       "      <td>15.5</td>\n",
       "      <td>16.0</td>\n",
       "      <td>13</td>\n",
       "      <td>0</td>\n",
       "      <td>71896</td>\n",
       "      <td>429154.0</td>\n",
       "      <td>0.0</td>\n",
       "      <td>0.0</td>\n",
       "    </tr>\n",
       "    <tr>\n",
       "      <th>...</th>\n",
       "      <td>...</td>\n",
       "      <td>...</td>\n",
       "      <td>...</td>\n",
       "      <td>...</td>\n",
       "      <td>...</td>\n",
       "      <td>...</td>\n",
       "      <td>...</td>\n",
       "      <td>...</td>\n",
       "      <td>...</td>\n",
       "      <td>...</td>\n",
       "      <td>...</td>\n",
       "      <td>...</td>\n",
       "      <td>...</td>\n",
       "      <td>...</td>\n",
       "      <td>...</td>\n",
       "      <td>...</td>\n",
       "      <td>...</td>\n",
       "      <td>...</td>\n",
       "    </tr>\n",
       "    <tr>\n",
       "      <th>69014</th>\n",
       "      <td>4c1347f5-73e1-472d-a6c0-df4d98bd0a56</td>\n",
       "      <td>Fully Paid</td>\n",
       "      <td>73920</td>\n",
       "      <td>Short Term</td>\n",
       "      <td>NaN</td>\n",
       "      <td>NaN</td>\n",
       "      <td>10+ years</td>\n",
       "      <td>Home Mortgage</td>\n",
       "      <td>Medical Bills</td>\n",
       "      <td>11415.20</td>\n",
       "      <td>13.6</td>\n",
       "      <td>NaN</td>\n",
       "      <td>9</td>\n",
       "      <td>0</td>\n",
       "      <td>200146</td>\n",
       "      <td>710908.0</td>\n",
       "      <td>0.0</td>\n",
       "      <td>0.0</td>\n",
       "    </tr>\n",
       "    <tr>\n",
       "      <th>1838</th>\n",
       "      <td>c1c626d1-2999-44b7-a488-fb242f8d28bd</td>\n",
       "      <td>Fully Paid</td>\n",
       "      <td>131846</td>\n",
       "      <td>Short Term</td>\n",
       "      <td>730.0</td>\n",
       "      <td>1518176.0</td>\n",
       "      <td>6 years</td>\n",
       "      <td>Own Home</td>\n",
       "      <td>Debt Consolidation</td>\n",
       "      <td>14675.60</td>\n",
       "      <td>15.6</td>\n",
       "      <td>7.0</td>\n",
       "      <td>16</td>\n",
       "      <td>0</td>\n",
       "      <td>118617</td>\n",
       "      <td>164890.0</td>\n",
       "      <td>0.0</td>\n",
       "      <td>0.0</td>\n",
       "    </tr>\n",
       "    <tr>\n",
       "      <th>4069</th>\n",
       "      <td>4b089a04-6eee-4166-ba7b-fab69d40ff3b</td>\n",
       "      <td>Fully Paid</td>\n",
       "      <td>599918</td>\n",
       "      <td>Long Term</td>\n",
       "      <td>NaN</td>\n",
       "      <td>NaN</td>\n",
       "      <td>1 year</td>\n",
       "      <td>Rent</td>\n",
       "      <td>Debt Consolidation</td>\n",
       "      <td>25647.15</td>\n",
       "      <td>17.5</td>\n",
       "      <td>NaN</td>\n",
       "      <td>11</td>\n",
       "      <td>0</td>\n",
       "      <td>323627</td>\n",
       "      <td>387090.0</td>\n",
       "      <td>0.0</td>\n",
       "      <td>0.0</td>\n",
       "    </tr>\n",
       "    <tr>\n",
       "      <th>98402</th>\n",
       "      <td>3617b2af-decb-4a2e-b9e5-6c601091c8fb</td>\n",
       "      <td>Fully Paid</td>\n",
       "      <td>258280</td>\n",
       "      <td>Long Term</td>\n",
       "      <td>NaN</td>\n",
       "      <td>NaN</td>\n",
       "      <td>10+ years</td>\n",
       "      <td>Home Mortgage</td>\n",
       "      <td>Debt Consolidation</td>\n",
       "      <td>5630.65</td>\n",
       "      <td>21.0</td>\n",
       "      <td>NaN</td>\n",
       "      <td>11</td>\n",
       "      <td>0</td>\n",
       "      <td>159087</td>\n",
       "      <td>815100.0</td>\n",
       "      <td>0.0</td>\n",
       "      <td>0.0</td>\n",
       "    </tr>\n",
       "    <tr>\n",
       "      <th>54224</th>\n",
       "      <td>c7899ab5-37f3-419c-959b-f037ee6c19cf</td>\n",
       "      <td>Fully Paid</td>\n",
       "      <td>261866</td>\n",
       "      <td>Long Term</td>\n",
       "      <td>694.0</td>\n",
       "      <td>1206158.0</td>\n",
       "      <td>7 years</td>\n",
       "      <td>Rent</td>\n",
       "      <td>other</td>\n",
       "      <td>11388.22</td>\n",
       "      <td>16.8</td>\n",
       "      <td>NaN</td>\n",
       "      <td>6</td>\n",
       "      <td>0</td>\n",
       "      <td>127813</td>\n",
       "      <td>229086.0</td>\n",
       "      <td>0.0</td>\n",
       "      <td>0.0</td>\n",
       "    </tr>\n",
       "  </tbody>\n",
       "</table>\n",
       "<p>10000 rows × 18 columns</p>\n",
       "</div>"
      ],
      "text/plain": [
       "                                Customer ID  Loan Status  Current Loan Amount  \\\n",
       "97048  b0086c9e-4a10-4bea-8859-862df5ed2928   Fully Paid               322344   \n",
       "30851  7ec84c14-9fe0-4f93-bf46-c314ba046c93   Fully Paid               440484   \n",
       "64540  3bbd5629-2adc-4223-ab4c-f6c61f3d703b  Charged Off               266860   \n",
       "48011  3236d703-48a6-4788-8b34-21065435db2a  Charged Off               224466   \n",
       "10610  f141ebb7-20da-4cdc-b7a3-9d3498d11781   Fully Paid               191026   \n",
       "...                                     ...          ...                  ...   \n",
       "69014  4c1347f5-73e1-472d-a6c0-df4d98bd0a56   Fully Paid                73920   \n",
       "1838   c1c626d1-2999-44b7-a488-fb242f8d28bd   Fully Paid               131846   \n",
       "4069   4b089a04-6eee-4166-ba7b-fab69d40ff3b   Fully Paid               599918   \n",
       "98402  3617b2af-decb-4a2e-b9e5-6c601091c8fb   Fully Paid               258280   \n",
       "54224  c7899ab5-37f3-419c-959b-f037ee6c19cf   Fully Paid               261866   \n",
       "\n",
       "             Term  Credit Score  Annual Income Years in current job  \\\n",
       "97048  Short Term         688.0       774668.0                  NaN   \n",
       "30851  Short Term           NaN            NaN              2 years   \n",
       "64540  Short Term        7420.0      1152312.0              9 years   \n",
       "48011  Short Term         715.0       775409.0            10+ years   \n",
       "10610  Short Term         718.0       650636.0            10+ years   \n",
       "...           ...           ...            ...                  ...   \n",
       "69014  Short Term           NaN            NaN            10+ years   \n",
       "1838   Short Term         730.0      1518176.0              6 years   \n",
       "4069    Long Term           NaN            NaN               1 year   \n",
       "98402   Long Term           NaN            NaN            10+ years   \n",
       "54224   Long Term         694.0      1206158.0              7 years   \n",
       "\n",
       "      Home Ownership             Purpose  Monthly Debt  \\\n",
       "97048  Home Mortgage  Debt Consolidation      15816.17   \n",
       "30851  Home Mortgage  Debt Consolidation      22096.05   \n",
       "64540  Home Mortgage  Debt Consolidation      12003.25   \n",
       "48011           Rent  Debt Consolidation      15895.97   \n",
       "10610           Rent  Debt Consolidation      14964.59   \n",
       "...              ...                 ...           ...   \n",
       "69014  Home Mortgage       Medical Bills      11415.20   \n",
       "1838        Own Home  Debt Consolidation      14675.60   \n",
       "4069            Rent  Debt Consolidation      25647.15   \n",
       "98402  Home Mortgage  Debt Consolidation       5630.65   \n",
       "54224           Rent               other      11388.22   \n",
       "\n",
       "       Years of Credit History  Months since last delinquent  \\\n",
       "97048                     20.0                          55.0   \n",
       "30851                     10.0                          80.0   \n",
       "64540                     16.8                           NaN   \n",
       "48011                     13.0                           NaN   \n",
       "10610                     15.5                          16.0   \n",
       "...                        ...                           ...   \n",
       "69014                     13.6                           NaN   \n",
       "1838                      15.6                           7.0   \n",
       "4069                      17.5                           NaN   \n",
       "98402                     21.0                           NaN   \n",
       "54224                     16.8                           NaN   \n",
       "\n",
       "       Number of Open Accounts  Number of Credit Problems  \\\n",
       "97048                        8                          0   \n",
       "30851                        8                          0   \n",
       "64540                       10                          1   \n",
       "48011                       10                          1   \n",
       "10610                       13                          0   \n",
       "...                        ...                        ...   \n",
       "69014                        9                          0   \n",
       "1838                        16                          0   \n",
       "4069                        11                          0   \n",
       "98402                       11                          0   \n",
       "54224                        6                          0   \n",
       "\n",
       "       Current Credit Balance  Maximum Open Credit  Bankruptcies  Tax Liens  \n",
       "97048                  458280             587642.0           0.0        0.0  \n",
       "30851                   80465             121154.0           0.0        0.0  \n",
       "64540                  277191             563068.0           1.0        0.0  \n",
       "48011                  126426             227304.0           1.0        0.0  \n",
       "10610                   71896             429154.0           0.0        0.0  \n",
       "...                       ...                  ...           ...        ...  \n",
       "69014                  200146             710908.0           0.0        0.0  \n",
       "1838                   118617             164890.0           0.0        0.0  \n",
       "4069                   323627             387090.0           0.0        0.0  \n",
       "98402                  159087             815100.0           0.0        0.0  \n",
       "54224                  127813             229086.0           0.0        0.0  \n",
       "\n",
       "[10000 rows x 18 columns]"
      ]
     },
     "execution_count": 968,
     "metadata": {},
     "output_type": "execute_result"
    }
   ],
   "source": [
    "data"
   ]
  },
  {
   "cell_type": "code",
   "execution_count": 740,
   "metadata": {},
   "outputs": [
    {
     "name": "stdout",
     "output_type": "stream",
     "text": [
      "22.639\n"
     ]
    }
   ],
   "source": [
    "#Percentage of Minority class in Target Variable\n",
    "total=len(data.index)\n",
    "count=0\n",
    "perc=0\n",
    "for i in data['Loan Status']:\n",
    "    if i == 'Charged Off':\n",
    "        count+=1\n",
    "perc=(count*100)/total\n",
    "print(perc)"
   ]
  },
  {
   "cell_type": "code",
   "execution_count": 718,
   "metadata": {},
   "outputs": [
    {
     "name": "stdout",
     "output_type": "stream",
     "text": [
      "<class 'pandas.core.frame.DataFrame'>\n",
      "Int64Index: 10000 entries, 79130 to 49114\n",
      "Data columns (total 18 columns):\n",
      "Customer ID                     10000 non-null object\n",
      "Loan Status                     10000 non-null object\n",
      "Current Loan Amount             10000 non-null int64\n",
      "Term                            10000 non-null object\n",
      "Credit Score                    8147 non-null float64\n",
      "Annual Income                   8147 non-null float64\n",
      "Years in current job            9584 non-null object\n",
      "Home Ownership                  10000 non-null object\n",
      "Purpose                         10000 non-null object\n",
      "Monthly Debt                    10000 non-null float64\n",
      "Years of Credit History         10000 non-null float64\n",
      "Months since last delinquent    4693 non-null float64\n",
      "Number of Open Accounts         10000 non-null int64\n",
      "Number of Credit Problems       10000 non-null int64\n",
      "Current Credit Balance          10000 non-null int64\n",
      "Maximum Open Credit             10000 non-null float64\n",
      "Bankruptcies                    9982 non-null float64\n",
      "Tax Liens                       9998 non-null float64\n",
      "dtypes: float64(8), int64(4), object(6)\n",
      "memory usage: 1.4+ MB\n"
     ]
    }
   ],
   "source": [
    "data.info()"
   ]
  },
  {
   "cell_type": "code",
   "execution_count": 719,
   "metadata": {},
   "outputs": [
    {
     "name": "stdout",
     "output_type": "stream",
     "text": [
      "Customer ID ['426b7e6e-ddea-4342-b302-332cb1463016'\n",
      " '41f7c937-2f5f-4021-87e6-ab0fd7b62e18'\n",
      " '592c51bd-134c-4a94-9dd9-51523fc588be' ...\n",
      " '2fa112a2-d30c-47d2-984e-2827dcb26d9f'\n",
      " 'e86b5ad6-5ae0-4b4a-9736-50657b906a6e'\n",
      " '6707b3e6-d84a-4121-a754-3f5263500d62'] \n",
      "\n",
      "Loan Status ['Fully Paid' 'Charged Off'] \n",
      "\n",
      "Current Loan Amount [242374 259512 312950 ... 356422 448140 308440] \n",
      "\n",
      "Term ['Short Term' 'Long Term'] \n",
      "\n",
      "Credit Score [ 740.   nan  710.  717.  697.  722.  709. 6930.  747.  745.  706.  687.\n",
      "  718.  701.  708.  723.  746.  664.  741.  704.  651.  673.  737.  750.\n",
      "  671.  719.  707.  725.  751.  721.  691.  694.  713.  699.  627.  729.\n",
      "  736.  728.  731. 6900.  716.  624. 7060.  715.  700.  705.  724.  711.\n",
      "  738.  683.  733.  720.  626.  742.  696.  712.  748.  735.  611.  744.\n",
      "  681.  714.  690.  679.  743.  638.  692.  674. 7280.  730.  727. 7450.\n",
      "  636.  666.  653.  676.  686.  732.  675.  734.  663. 7360.  657.  656.\n",
      " 6300.  685.  680.  695.  702.  635.  739.  641.  628. 6410.  661.  684.\n",
      " 7340.  659. 7220. 6700. 7230.  693.  678.  672. 7460. 7310.  703.  698.\n",
      " 7350. 7430.  677.  625.  646. 6990. 6560.  669. 7020.  654.  726. 7260.\n",
      "  749. 7010. 7030.  689. 7170. 6880.  682.  615.  652.  601. 7410.  665.\n",
      " 7290.  655. 7150.  622.  660. 7120.  606.  688.  649. 6760.  670. 7330.\n",
      " 7200.  631. 7440. 7270.  602.  629.  634.  632.  621.  623.  658.  667.\n",
      " 7140. 7300. 7420. 6960.  645. 7390. 6730. 6940. 7480. 7180. 6850. 7040.\n",
      " 6650. 7320. 6830.  640. 6980.  668. 7100. 7380. 7250. 7160. 6210.  618.\n",
      " 7130. 7090. 6310. 6800.  650.  643.  620. 7070. 6620. 6100. 7470. 6640.\n",
      " 6260.  648. 6080. 6890. 7000.  662.  633. 7080. 6750.  591.  619. 7500.\n",
      "  617.  642. 7370. 6670. 7110. 7240. 6810. 6590. 7190. 6110. 6970. 7400.\n",
      " 7490.  647. 6780.  639. 6350. 6530. 6450. 6600. 6740. 6510. 6660.  593.\n",
      " 6570. 7050.  598. 6610.  604.  600.  609.  612. 6840. 6330.  599. 6690.\n",
      "  590.  644. 6630. 6550. 6790.  637.  610.  588.  596.  595.  586. 7210.\n",
      "  613. 6220. 6920.  594. 6950.  605. 6860.  616. 6770.  597. 6400. 6680.\n",
      " 6200. 5850. 6580. 6160.] \n",
      "\n",
      "Annual Income [1233556.      nan  602775. ... 1348164. 1122387.  899232.] \n",
      "\n",
      "Years in current job [nan '3 years' '7 years' '10+ years' '1 year' '5 years' '9 years'\n",
      " '4 years' '< 1 year' '2 years' '8 years' '6 years'] \n",
      "\n",
      "Home Ownership ['Rent' 'Home Mortgage' 'Own Home' 'HaveMortgage'] \n",
      "\n",
      "Purpose ['Debt Consolidation' 'Home Improvements' 'major_purchase' 'other'\n",
      " 'Buy a Car' 'Business Loan' 'moving' 'Buy House' 'Medical Bills'\n",
      " 'Take a Trip' 'vacation' 'small_business' 'Other' 'Educational Expenses'\n",
      " 'wedding'] \n",
      "\n",
      "Monthly Debt [19737.01 46767.17 10247.27 ... 13376.   15148.89 30521.98] \n",
      "\n",
      "Years of Credit History [16.6 18.  15.2 15.7 20.9 27.  17.3 24.7 12.3 12.  11.2 26.3  9.5  5.\n",
      " 22.4 19.  10.7 32.8 25.5 12.5 15.  16.8 38.3 30.8 25.6 10.  15.5 24.5\n",
      " 17.6 33.1 16.4 26.  14.4 19.7  4.8 12.6 28.4 23.7  9.3  9.8 15.6 12.1\n",
      "  9.7 17.2 14.  19.3 13.3 35.   7.8 17.  18.5 18.2 14.9 20.   6.4  5.9\n",
      " 20.5 17.8 31.4 16.2 14.6 23.  13.5 10.6 16.5 18.9  8.1  7.9 15.4 15.9\n",
      " 32.  25.8  9.  24.  22.8 15.1 21.8 20.6 33.3 18.8  8.5 29.3 20.7 11.3\n",
      " 29.5 13.2 11.9 22.5 23.5 13.  16.  35.7  8.2 16.9 18.7 20.2 17.7 22.2\n",
      " 19.9 10.1 23.4 12.9 19.4  7.  17.5 20.4 37.9 35.4 25.1 24.1 38.2 11.8\n",
      " 14.5 16.7  9.9 16.3 13.4 19.6  6.5 13.9 25.4  6.2  8.3  8.6 14.3 15.8\n",
      " 26.4 14.7 10.4 27.6  9.6 24.4 11.  28.3 10.5 12.8  9.1 12.2 27.8 13.6\n",
      " 13.1  5.4 34.8 39.4 11.6 31.5 31.2 21.4 16.1 14.1 27.4 22.9 13.8 21.5\n",
      " 14.8 22.  12.7 26.2 19.1 10.9 23.2  5.8 23.3 22.6 11.4 11.1 28.6 12.4\n",
      " 26.5 27.2 28.  44.7 10.2 24.6 21.7 21.1 18.4 30.5 36.  27.1 21.2 17.4\n",
      " 24.8 33.5 14.2 35.2 34.  22.1 23.6  6.3 43.5 11.5 25.  18.3 39.9 32.7\n",
      " 23.8 21.9 25.9 10.3  9.4 21.  26.7 15.3 29.9  8.  43.4 27.7 33.6 23.1\n",
      " 48.  32.5 19.2 13.7  5.5 28.5 29.1 46.2 41.3 11.7 38.  18.6 34.9 32.4\n",
      " 30.7 24.2 20.8 38.7 31.  21.3 46.3 33.  18.1 26.9  7.6  6.  37.5 20.3\n",
      "  9.2 20.1  6.9 39.3 30.   7.7 29.   8.8 21.6 24.9  8.9 34.7 17.9 25.3\n",
      " 36.9 23.9 19.5  5.6 31.7 49.4 26.8 30.9  7.4 10.8 17.1  7.5 26.6 29.4\n",
      " 40.  31.3 34.5 26.1 30.1 34.1  8.4  8.7 31.8 29.2 33.7 34.6 30.2 33.2\n",
      " 38.9 43.2 40.5  6.7 35.3 31.6 37.   4.7  5.3 29.8 36.4 27.3 22.7 40.6\n",
      " 24.3 25.2 44.4 28.2 39.1 46.5 30.3 31.9 29.6 22.3  6.1 19.8 35.8 34.4\n",
      " 25.7 30.6 32.9 50.  46.4 39.  29.7 36.5 28.9 32.1 37.4 27.5 27.9  5.2\n",
      " 28.7 47.9 35.9 39.5 28.1 33.8  4.2 35.6 57.7 49.  36.3 32.3 31.1 41.6\n",
      " 36.8  5.1  7.1 30.4 32.2 35.1 43.3 46.  42.8  6.8 33.4 38.5 38.8 46.7\n",
      " 36.7  7.3 34.2  4.3 53.8 35.5 40.1  4.9 42.2 39.2 37.1 47.   6.6 44.8\n",
      " 28.8 41.2 48.2 47.1 32.6 39.7 45.4  7.2 46.1  5.7 36.6 43.7 41.  42.3\n",
      " 44.2 52.9 40.4 50.3 40.8 38.6  4.6 42.  41.4 48.5 41.8 45.3 36.2 39.6\n",
      " 33.9 37.3 45.  41.1 43.8 44.5 39.8  4.  37.7 49.9 47.7  4.5 34.3 45.5\n",
      " 43.9 38.4 50.4 37.6 40.7 44.1 40.3 44.  40.2 51.4 51.5] \n",
      "\n",
      "Months since last delinquent [ nan  15.  11.   4.  39.  60.   2.  12.  52.  72.   6.  40.  21.  16.\n",
      "  35.   8.  25.  14.  43.  63.  47.   5.  20.  30.  78.  26.  69.  23.\n",
      "  19.  28.  76.  80.  48.  75.  36.  32.  34.  22.  10.  13.   7.  70.\n",
      "  68.  67.  41.  58.  29.   0.  45.  56.  62.  17.  77.  50.  27.  46.\n",
      "  53.  51.  65.  38.  24.  73.  82.  57.  33.  37.   9.  42.  44.  49.\n",
      "  71.  31.  18.  66.  54.  61.  81.  74.  64.  83.   1.   3.  55.  79.\n",
      "  59. 115.  86.  85.  97.  96.  84. 148.] \n",
      "\n",
      "Number of Open Accounts [16 22 10  6 11  5 17 21 14  9  7 12  4  8 13 18 15 20 19  3 23 24 28 26\n",
      " 27 25  2 34 36 30 29 31 33 47 37 32 45 40  1 44 43] \n",
      "\n",
      "Number of Credit Problems [0 1 2 4 5 3 9 6] \n",
      "\n",
      "Current Credit Balance [494988 257716 250553 ... 323323  38171 229235] \n",
      "\n",
      "Maximum Open Credit [1027136.  698874.  553630. ...  342694.  639716.   73194.] \n",
      "\n",
      "Bankruptcies [ 0.  1.  2. nan  5.  3.] \n",
      "\n",
      "Tax Liens [ 0.  1.  2.  4. nan  3.  5.  9.] \n",
      "\n"
     ]
    }
   ],
   "source": [
    "for var in data.columns:\n",
    "    print(var, data[var].unique(), '\\n')"
   ]
  },
  {
   "cell_type": "code",
   "execution_count": 720,
   "metadata": {},
   "outputs": [
    {
     "data": {
      "text/plain": [
       "Customer ID                     0.0000\n",
       "Loan Status                     0.0000\n",
       "Current Loan Amount             0.0000\n",
       "Term                            0.0000\n",
       "Credit Score                    0.1853\n",
       "Annual Income                   0.1853\n",
       "Years in current job            0.0416\n",
       "Home Ownership                  0.0000\n",
       "Purpose                         0.0000\n",
       "Monthly Debt                    0.0000\n",
       "Years of Credit History         0.0000\n",
       "Months since last delinquent    0.5307\n",
       "Number of Open Accounts         0.0000\n",
       "Number of Credit Problems       0.0000\n",
       "Current Credit Balance          0.0000\n",
       "Maximum Open Credit             0.0000\n",
       "Bankruptcies                    0.0018\n",
       "Tax Liens                       0.0002\n",
       "dtype: float64"
      ]
     },
     "execution_count": 720,
     "metadata": {},
     "output_type": "execute_result"
    }
   ],
   "source": [
    "data.isnull().mean()"
   ]
  },
  {
   "cell_type": "code",
   "execution_count": 721,
   "metadata": {},
   "outputs": [
    {
     "data": {
      "text/plain": [
       "Customer ID                      object\n",
       "Loan Status                      object\n",
       "Current Loan Amount               int64\n",
       "Term                             object\n",
       "Credit Score                    float64\n",
       "Annual Income                   float64\n",
       "Years in current job             object\n",
       "Home Ownership                   object\n",
       "Purpose                          object\n",
       "Monthly Debt                    float64\n",
       "Years of Credit History         float64\n",
       "Months since last delinquent    float64\n",
       "Number of Open Accounts           int64\n",
       "Number of Credit Problems         int64\n",
       "Current Credit Balance            int64\n",
       "Maximum Open Credit             float64\n",
       "Bankruptcies                    float64\n",
       "Tax Liens                       float64\n",
       "dtype: object"
      ]
     },
     "execution_count": 721,
     "metadata": {},
     "output_type": "execute_result"
    }
   ],
   "source": [
    "data.dtypes"
   ]
  },
  {
   "cell_type": "code",
   "execution_count": 1233,
   "metadata": {},
   "outputs": [],
   "source": [
    "# make list of variables  types\n",
    "\n",
    "# numerical: discrete vs continuous\n",
    "discrete = [var for var in data.columns if data[var].dtype!='O' and var!='Loan Status' and data[var].nunique()<10]\n",
    "continuous = [var for var in data.columns if data[var].dtype!='O' and var!='Loan Status' and var not in discrete]\n",
    "categorical = [var for var in data.columns if data[var].dtype=='O']"
   ]
  },
  {
   "cell_type": "code",
   "execution_count": 1234,
   "metadata": {},
   "outputs": [
    {
     "name": "stdout",
     "output_type": "stream",
     "text": [
      "['Number of Credit Problems', 'Bankruptcies', 'Tax Liens']\n",
      "['Current Loan Amount', 'Credit Score', 'Annual Income', 'Monthly Debt', 'Years of Credit History', 'Months since last delinquent', 'Number of Open Accounts', 'Current Credit Balance', 'Maximum Open Credit']\n",
      "['Customer ID', 'Loan Status', 'Term', 'Years in current job', 'Home Ownership', 'Purpose']\n"
     ]
    }
   ],
   "source": [
    "print(discrete)\n",
    "print(continuous)\n",
    "print(categorical)"
   ]
  },
  {
   "cell_type": "code",
   "execution_count": 301,
   "metadata": {},
   "outputs": [
    {
     "data": {
      "image/png": "[encoded data removed]",
      "text/plain": [
       "<Figure size 1152x288 with 2 Axes>"
      ]
     },
     "metadata": {
      "needs_background": "light"
     },
     "output_type": "display_data"
    },
    {
     "name": "stderr",
     "output_type": "stream",
     "text": [
      "C:\\Users\\V M HAREENDRAN\\Anaconda3\\envs\\buan6341_2020\\lib\\site-packages\\numpy\\lib\\histograms.py:839: RuntimeWarning: invalid value encountered in greater_equal\n",
      "  keep = (tmp_a >= first_edge)\n",
      "C:\\Users\\V M HAREENDRAN\\Anaconda3\\envs\\buan6341_2020\\lib\\site-packages\\numpy\\lib\\histograms.py:840: RuntimeWarning: invalid value encountered in less_equal\n",
      "  keep &= (tmp_a <= last_edge)\n",
      "C:\\Users\\V M HAREENDRAN\\Anaconda3\\envs\\buan6341_2020\\lib\\site-packages\\statsmodels\\nonparametric\\kde.py:447: RuntimeWarning: invalid value encountered in greater\n",
      "  X = X[np.logical_and(X > clip[0], X < clip[1])] # won't work for two columns.\n",
      "C:\\Users\\V M HAREENDRAN\\Anaconda3\\envs\\buan6341_2020\\lib\\site-packages\\statsmodels\\nonparametric\\kde.py:447: RuntimeWarning: invalid value encountered in less\n",
      "  X = X[np.logical_and(X > clip[0], X < clip[1])] # won't work for two columns.\n"
     ]
    },
    {
     "data": {
      "image/png": "[encoded data removed]",
      "text/plain": [
       "<Figure size 1152x288 with 2 Axes>"
      ]
     },
     "metadata": {
      "needs_background": "light"
     },
     "output_type": "display_data"
    },
    {
     "name": "stderr",
     "output_type": "stream",
     "text": [
      "C:\\Users\\V M HAREENDRAN\\Anaconda3\\envs\\buan6341_2020\\lib\\site-packages\\numpy\\lib\\histograms.py:839: RuntimeWarning: invalid value encountered in greater_equal\n",
      "  keep = (tmp_a >= first_edge)\n",
      "C:\\Users\\V M HAREENDRAN\\Anaconda3\\envs\\buan6341_2020\\lib\\site-packages\\numpy\\lib\\histograms.py:840: RuntimeWarning: invalid value encountered in less_equal\n",
      "  keep &= (tmp_a <= last_edge)\n",
      "C:\\Users\\V M HAREENDRAN\\Anaconda3\\envs\\buan6341_2020\\lib\\site-packages\\statsmodels\\nonparametric\\kde.py:447: RuntimeWarning: invalid value encountered in greater\n",
      "  X = X[np.logical_and(X > clip[0], X < clip[1])] # won't work for two columns.\n",
      "C:\\Users\\V M HAREENDRAN\\Anaconda3\\envs\\buan6341_2020\\lib\\site-packages\\statsmodels\\nonparametric\\kde.py:447: RuntimeWarning: invalid value encountered in less\n",
      "  X = X[np.logical_and(X > clip[0], X < clip[1])] # won't work for two columns.\n"
     ]
    },
    {
     "data": {
      "image/png": "[encoded data removed]",
      "text/plain": [
       "<Figure size 1152x288 with 2 Axes>"
      ]
     },
     "metadata": {
      "needs_background": "light"
     },
     "output_type": "display_data"
    },
    {
     "data": {
      "image/png": "[encoded data removed]",
      "text/plain": [
       "<Figure size 1152x288 with 2 Axes>"
      ]
     },
     "metadata": {
      "needs_background": "light"
     },
     "output_type": "display_data"
    },
    {
     "data": {
      "image/png": "[encoded data removed]",
      "text/plain": [
       "<Figure size 1152x288 with 2 Axes>"
      ]
     },
     "metadata": {
      "needs_background": "light"
     },
     "output_type": "display_data"
    },
    {
     "name": "stderr",
     "output_type": "stream",
     "text": [
      "C:\\Users\\V M HAREENDRAN\\Anaconda3\\envs\\buan6341_2020\\lib\\site-packages\\numpy\\lib\\histograms.py:839: RuntimeWarning: invalid value encountered in greater_equal\n",
      "  keep = (tmp_a >= first_edge)\n",
      "C:\\Users\\V M HAREENDRAN\\Anaconda3\\envs\\buan6341_2020\\lib\\site-packages\\numpy\\lib\\histograms.py:840: RuntimeWarning: invalid value encountered in less_equal\n",
      "  keep &= (tmp_a <= last_edge)\n",
      "C:\\Users\\V M HAREENDRAN\\Anaconda3\\envs\\buan6341_2020\\lib\\site-packages\\statsmodels\\nonparametric\\kde.py:447: RuntimeWarning: invalid value encountered in greater\n",
      "  X = X[np.logical_and(X > clip[0], X < clip[1])] # won't work for two columns.\n",
      "C:\\Users\\V M HAREENDRAN\\Anaconda3\\envs\\buan6341_2020\\lib\\site-packages\\statsmodels\\nonparametric\\kde.py:447: RuntimeWarning: invalid value encountered in less\n",
      "  X = X[np.logical_and(X > clip[0], X < clip[1])] # won't work for two columns.\n"
     ]
    },
    {
     "data": {
      "image/png": "[encoded data removed]",
      "text/plain": [
       "<Figure size 1152x288 with 2 Axes>"
      ]
     },
     "metadata": {
      "needs_background": "light"
     },
     "output_type": "display_data"
    },
    {
     "data": {
      "image/png": "[encoded data removed]",
      "text/plain": [
       "<Figure size 1152x288 with 2 Axes>"
      ]
     },
     "metadata": {
      "needs_background": "light"
     },
     "output_type": "display_data"
    },
    {
     "data": {
      "image/png": "[encoded data removed]",
      "text/plain": [
       "<Figure size 1152x288 with 2 Axes>"
      ]
     },
     "metadata": {
      "needs_background": "light"
     },
     "output_type": "display_data"
    },
    {
     "data": {
      "image/png": "[encoded data removed]",
      "text/plain": [
       "<Figure size 1152x288 with 2 Axes>"
      ]
     },
     "metadata": {
      "needs_background": "light"
     },
     "output_type": "display_data"
    }
   ],
   "source": [
    "def diagnostic_plots(df, variable):\n",
    "    # function takes a dataframe (df) and\n",
    "    # the variable of interest as arguments\n",
    "\n",
    "    # define figure size\n",
    "    plt.figure(figsize=(16, 4))\n",
    "\n",
    "    # histogram\n",
    "    plt.subplot(1, 2, 1)\n",
    "    sns.distplot(df[variable], bins=30)\n",
    "    plt.title('Histogram')\n",
    "\n",
    "    # boxplot\n",
    "    plt.subplot(1, 2, 2)\n",
    "    sns.boxplot(y=df[variable])\n",
    "    plt.title('Boxplot')\n",
    "\n",
    "    plt.show()\n",
    "for var in continuous:\n",
    "    diagnostic_plots(data, var)\n"
   ]
  },
  {
   "cell_type": "code",
   "execution_count": 1270,
   "metadata": {},
   "outputs": [
    {
     "data": {
      "text/plain": [
       "((9000, 16), (1000, 16))"
      ]
     },
     "execution_count": 1270,
     "metadata": {},
     "output_type": "execute_result"
    }
   ],
   "source": [
    "X_train, X_test, y_train, y_test = train_test_split(data.drop(['Loan Status','Customer ID'], axis=1),\n",
    "                                                    data['Loan Status'],\n",
    "                                                    test_size=0.1,\n",
    "                                                    random_state=0)\n",
    "\n",
    "X_train.shape, X_test.shape"
   ]
  },
  {
   "cell_type": "code",
   "execution_count": 1271,
   "metadata": {},
   "outputs": [],
   "source": [
    "discrete = [var for var in X_train.columns if X_train[var].dtype!='O' and X_train[var].nunique()<10]\n",
    "continuous = [var for var in X_train.columns if X_train[var].dtype!='O' and var not in discrete]\n",
    "categorical = [var for var in X_train.columns if X_train[var].dtype=='O']\n",
    "numerical=continuous+discrete"
   ]
  },
  {
   "cell_type": "code",
   "execution_count": 1272,
   "metadata": {},
   "outputs": [
    {
     "name": "stdout",
     "output_type": "stream",
     "text": [
      "['Number of Credit Problems', 'Bankruptcies', 'Tax Liens']\n",
      "['Current Loan Amount', 'Credit Score', 'Annual Income', 'Monthly Debt', 'Years of Credit History', 'Months since last delinquent', 'Number of Open Accounts', 'Current Credit Balance', 'Maximum Open Credit']\n",
      "['Term', 'Years in current job', 'Home Ownership', 'Purpose']\n",
      "['Current Loan Amount', 'Credit Score', 'Annual Income', 'Monthly Debt', 'Years of Credit History', 'Months since last delinquent', 'Number of Open Accounts', 'Current Credit Balance', 'Maximum Open Credit', 'Number of Credit Problems', 'Bankruptcies', 'Tax Liens']\n"
     ]
    }
   ],
   "source": [
    "print(discrete)\n",
    "print(continuous)\n",
    "print(categorical)\n",
    "print(numerical)"
   ]
  },
  {
   "cell_type": "markdown",
   "metadata": {},
   "source": [
    "# Preprocessing"
   ]
  },
  {
   "cell_type": "code",
   "execution_count": 1273,
   "metadata": {},
   "outputs": [],
   "source": [
    "from sklearn.pipeline import Pipeline\n",
    "from sklearn.preprocessing import StandardScaler\n",
    "from feature_engine import missing_data_imputers as mdi\n",
    "from feature_engine import categorical_encoders as ce\n",
    "from feature_engine.variable_transformers import YeoJohnsonTransformer\n",
    "from sklearn.preprocessing import StandardScaler\n",
    "from feature_engine.discretisers import DecisionTreeDiscretiser\n",
    "from feature_engine.variable_transformers import LogTransformer\n",
    "from feature_engine import discretisers as dsc\n",
    "from feature_engine.categorical_encoders import OneHotCategoricalEncoder\n",
    "from feature_engine.categorical_encoders import OrdinalCategoricalEncoder\n",
    "from feature_engine.variable_transformers import PowerTransformer\n",
    "from feature_engine.discretisers import EqualFrequencyDiscretiser\n",
    "from feature_engine.discretisers import EqualWidthDiscretiser\n",
    "from sklearn.preprocessing import RobustScaler\n",
    "from feature_engine.categorical_encoders import CountFrequencyCategoricalEncoder\n",
    "from feature_engine.variable_transformers import BoxCoxTransformer\n",
    "from sklearn.preprocessing import KBinsDiscretizer"
   ]
  },
  {
   "cell_type": "code",
   "execution_count": 1274,
   "metadata": {},
   "outputs": [],
   "source": [
    "loan_pipe = Pipeline([\n",
    "    \n",
    " ('imputer_num', mdi.MeanMedianImputer(imputation_method='mean',variables=['Credit Score','Annual Income','Months since last delinquent','Bankruptcies','Tax Liens'])),\n",
    " ('imputer_dis', mdi.FrequentCategoryImputer(variables=['Years in current job'])),\n",
    " ('trans', PowerTransformer(variables=continuous)),\n",
    " ('desc', EqualWidthDiscretiser(bins=50, variables = numerical)), \n",
    " ('categorical_encoder', OneHotCategoricalEncoder( top_categories=None, variables=categorical, drop_last=True)),\n",
    " ('robustscaler', RobustScaler(with_centering=False,\n",
    "                             with_scaling=True,\n",
    "                             quantile_range=(0, 100)))\n",
    "])"
   ]
  },
  {
   "cell_type": "code",
   "execution_count": 1275,
   "metadata": {},
   "outputs": [
    {
     "data": {
      "text/plain": [
       "Pipeline(memory=None,\n",
       "         steps=[('imputer_num',\n",
       "                 MeanMedianImputer(imputation_method='mean',\n",
       "                                   variables=['Credit Score', 'Annual Income',\n",
       "                                              'Months since last delinquent',\n",
       "                                              'Bankruptcies', 'Tax Liens'])),\n",
       "                ('imputer_dis',\n",
       "                 FrequentCategoryImputer(variables=['Years in current job'])),\n",
       "                ('trans',\n",
       "                 PowerTransformer(exp=0.5,\n",
       "                                  variables=['Current Loan Amount',\n",
       "                                             'Credit Score', 'Annual Income',...\n",
       "                                                  'Current Credit Balance',\n",
       "                                                  'Maximum Open Credit',\n",
       "                                                  'Number of Credit Problems',\n",
       "                                                  'Bankruptcies',\n",
       "                                                  'Tax Liens'])),\n",
       "                ('categorical_encoder',\n",
       "                 OneHotCategoricalEncoder(drop_last=True, top_categories=None,\n",
       "                                          variables=['Term',\n",
       "                                                     'Years in current job',\n",
       "                                                     'Home Ownership',\n",
       "                                                     'Purpose'])),\n",
       "                ('robustscaler',\n",
       "                 RobustScaler(copy=True, quantile_range=(0, 100),\n",
       "                              with_centering=False, with_scaling=True))],\n",
       "         verbose=False)"
      ]
     },
     "execution_count": 1275,
     "metadata": {},
     "output_type": "execute_result"
    }
   ],
   "source": [
    "loan_pipe.fit(X_train,y_train)"
   ]
  },
  {
   "cell_type": "code",
   "execution_count": 1276,
   "metadata": {},
   "outputs": [],
   "source": [
    "X_train=loan_pipe.transform(X_train)\n",
    "X_test=loan_pipe.transform(X_test)"
   ]
  },
  {
   "cell_type": "code",
   "execution_count": 1277,
   "metadata": {},
   "outputs": [],
   "source": [
    "#To convert target variable to 0 and 1\n",
    "y_t1 = []\n",
    "for i in y_train:\n",
    "    if i == \"Charged Off\":\n",
    "        y_t1.append(1)\n",
    "    elif i == \"Fully Paid\":\n",
    "        y_t1.append(0)\n",
    "y_train = y_t1\n",
    "\n",
    "y_t2 = []\n",
    "for i in y_test:\n",
    "    if i == \"Charged Off\":\n",
    "        y_t2.append(1)\n",
    "    elif i == \"Fully Paid\":\n",
    "        y_t2.append(0)\n",
    "y_test = y_t2       "
   ]
  },
  {
   "cell_type": "code",
   "execution_count": 1278,
   "metadata": {},
   "outputs": [],
   "source": [
    "#Custom function for scoring\n",
    "def scoring(m):\n",
    "    train_preds=m.predict(X_train)\n",
    "    test_preds= m.predict(X_test)\n",
    "    test_preds\n",
    "    x_t1 = []\n",
    "    for i in train_preds:\n",
    "        if i == \"Charged Off\":\n",
    "            x_t1.append(1)\n",
    "        elif i == \"Fully Paid\":\n",
    "            x_t1.append(0)\n",
    "    x_train1 = x_t1       \n",
    "    train_preds=x_train1\n",
    "    x_t = []\n",
    "    for i in test_preds:\n",
    "        if i == \"Charged Off\":\n",
    "            x_t.append(1)\n",
    "        elif i == \"Fully Paid\":\n",
    "            x_t.append(0)\n",
    "    x_test1 = x_t       \n",
    "    test_preds=x_test1\n",
    "   \n",
    "    from sklearn.metrics import recall_score\n",
    "    print(\"The test score is:{:.3f}\".format(fbeta_score(y_test,test_preds,beta=0.2)))\n",
    "    print(\"The train score is:{:.3f}\".format(fbeta_score(y_train,train_preds,beta=0.2)))\n"
   ]
  },
  {
   "cell_type": "code",
   "execution_count": 1287,
   "metadata": {},
   "outputs": [],
   "source": [
    "#Scorer Defined\n",
    "from sklearn.metrics import fbeta_score, make_scorer\n",
    "\n",
    "ftwo_scorer = make_scorer(fbeta_score, beta=0.2)"
   ]
  },
  {
   "cell_type": "markdown",
   "metadata": {},
   "source": [
    "# Basic Models"
   ]
  },
  {
   "cell_type": "code",
   "execution_count": 1263,
   "metadata": {},
   "outputs": [
    {
     "name": "stdout",
     "output_type": "stream",
     "text": [
      "Mean Cross-validation scores: 0.774\n",
      "\n",
      "Naive Algorithm Test Performance:  0.808\n",
      "Best parameters: {'strategy': 'most_frequent'}\n"
     ]
    }
   ],
   "source": [
    "# Naive Algorithm \n",
    "from sklearn.dummy import DummyClassifier\n",
    "from sklearn.model_selection import cross_val_score\n",
    "params = {\n",
    "            'strategy':['stratified','most_frequent','prior','uniform']\n",
    "         }\n",
    "model_dummy = GridSearchCV(DummyClassifier(random_state=123), params, cv=5, return_train_score = True)\n",
    "model_dummy.fit(X_train,y_train)\n",
    "cv_scores = cross_val_score(model_dummy, X_train, y_train)\n",
    "\n",
    "# Mean Cross validation Score\n",
    "print(\"Mean Cross-validation scores: {}\".format(cv_scores.mean()))\n",
    "print()\n",
    "\n",
    "# Check test data set performance\n",
    "print(\"Naive Algorithm Test Performance: \", model_dummy.score(X_test,y_test))\n",
    "print(\"Best parameters: {}\".format(model_dummy.best_params_))\n",
    "\n",
    "\n"
   ]
  },
  {
   "cell_type": "code",
   "execution_count": 1315,
   "metadata": {},
   "outputs": [
    {
     "name": "stdout",
     "output_type": "stream",
     "text": [
      "Mean Cross-validation scores: 0.8186666666666665\n",
      "\n",
      "Logistic.coef_: [[-3.83207042  5.99980655 -2.90799185  0.14412625 -0.59317261 -0.35517427\n",
      "   0.14775951  0.07855292  0.08778339 -1.27624846  0.08104969  0.44013057\n",
      "  -0.65711096  0.05653064  0.06461207  0.20195594 -0.09608377 -0.02878281\n",
      "   0.07534289 -0.06226658  0.19175742  0.00819395  0.06154522  0.01364929\n",
      "  -0.21374283 -0.12242001 -0.04039668 -0.0170728  -0.51048111 -0.37975288\n",
      "   1.17301271  0.51042638 -0.16822899 -0.45182967 -0.54327201 -0.09673974\n",
      "  -0.06839907 -0.0468899   0.31756026  0.08876654  0.52510158]]\n",
      "Logistic.intercept_: [-0.27857523]\n",
      "Logistic Performance:  0.8571428571428571\n"
     ]
    }
   ],
   "source": [
    "#Logistic Regression\n",
    "from sklearn.metrics import mean_squared_error, r2_score, f1_score\n",
    "from sklearn.model_selection import GridSearchCV\n",
    "from sklearn.linear_model import LogisticRegression\n",
    "from sklearn.model_selection import cross_val_score\n",
    "\n",
    "clf = LogisticRegression(solver='newton-cg').fit(X_train, y_train1)\n",
    "\n",
    "cv_scores = cross_val_score(clf, X_train, y_train1)\n",
    "train_preds=clf.predict(X_train)\n",
    "test_preds= clf.predict(X_test)\n",
    "# Mean Cross validation Score\n",
    "print(\"Mean Cross-validation scores: {}\".format(cv_scores.mean()))\n",
    "print()\n",
    "\n",
    "# Print Co-efficients\n",
    "print(\"Logistic.coef_:\", clf.coef_)\n",
    "print(\"Logistic.intercept_:\", clf.intercept_)\n",
    "\n",
    "# Check test data set performance\n",
    "print(\"Logistic Performance: \", fbeta_score(y_test,test_preds,beta=0.2))\n"
   ]
  },
  {
   "cell_type": "code",
   "execution_count": 1265,
   "metadata": {},
   "outputs": [
    {
     "name": "stderr",
     "output_type": "stream",
     "text": [
      "C:\\Users\\V M HAREENDRAN\\Anaconda3\\envs\\buan6341_2020\\lib\\site-packages\\sklearn\\model_selection\\_validation.py:536: FitFailedWarning: Estimator fit failed. The score on this train-test partition for these parameters will be set to nan. Details: \n",
      "TypeError: object of type 'type' has no len()\n",
      "\n",
      "  FitFailedWarning)\n",
      "C:\\Users\\V M HAREENDRAN\\Anaconda3\\envs\\buan6341_2020\\lib\\site-packages\\sklearn\\model_selection\\_validation.py:536: FitFailedWarning: Estimator fit failed. The score on this train-test partition for these parameters will be set to nan. Details: \n",
      "TypeError: object of type 'type' has no len()\n",
      "\n",
      "  FitFailedWarning)\n",
      "C:\\Users\\V M HAREENDRAN\\Anaconda3\\envs\\buan6341_2020\\lib\\site-packages\\sklearn\\model_selection\\_validation.py:536: FitFailedWarning: Estimator fit failed. The score on this train-test partition for these parameters will be set to nan. Details: \n",
      "TypeError: object of type 'type' has no len()\n",
      "\n",
      "  FitFailedWarning)\n",
      "C:\\Users\\V M HAREENDRAN\\Anaconda3\\envs\\buan6341_2020\\lib\\site-packages\\sklearn\\model_selection\\_validation.py:536: FitFailedWarning: Estimator fit failed. The score on this train-test partition for these parameters will be set to nan. Details: \n",
      "TypeError: object of type 'type' has no len()\n",
      "\n",
      "  FitFailedWarning)\n",
      "C:\\Users\\V M HAREENDRAN\\Anaconda3\\envs\\buan6341_2020\\lib\\site-packages\\sklearn\\model_selection\\_validation.py:536: FitFailedWarning: Estimator fit failed. The score on this train-test partition for these parameters will be set to nan. Details: \n",
      "TypeError: object of type 'type' has no len()\n",
      "\n",
      "  FitFailedWarning)\n",
      "C:\\Users\\V M HAREENDRAN\\Anaconda3\\envs\\buan6341_2020\\lib\\site-packages\\sklearn\\model_selection\\_validation.py:536: FitFailedWarning: Estimator fit failed. The score on this train-test partition for these parameters will be set to nan. Details: \n",
      "TypeError: object of type 'type' has no len()\n",
      "\n",
      "  FitFailedWarning)\n",
      "C:\\Users\\V M HAREENDRAN\\Anaconda3\\envs\\buan6341_2020\\lib\\site-packages\\sklearn\\model_selection\\_validation.py:536: FitFailedWarning: Estimator fit failed. The score on this train-test partition for these parameters will be set to nan. Details: \n",
      "TypeError: object of type 'type' has no len()\n",
      "\n",
      "  FitFailedWarning)\n",
      "C:\\Users\\V M HAREENDRAN\\Anaconda3\\envs\\buan6341_2020\\lib\\site-packages\\sklearn\\model_selection\\_validation.py:536: FitFailedWarning: Estimator fit failed. The score on this train-test partition for these parameters will be set to nan. Details: \n",
      "TypeError: object of type 'type' has no len()\n",
      "\n",
      "  FitFailedWarning)\n",
      "C:\\Users\\V M HAREENDRAN\\Anaconda3\\envs\\buan6341_2020\\lib\\site-packages\\sklearn\\model_selection\\_validation.py:536: FitFailedWarning: Estimator fit failed. The score on this train-test partition for these parameters will be set to nan. Details: \n",
      "TypeError: object of type 'type' has no len()\n",
      "\n",
      "  FitFailedWarning)\n",
      "C:\\Users\\V M HAREENDRAN\\Anaconda3\\envs\\buan6341_2020\\lib\\site-packages\\sklearn\\model_selection\\_validation.py:536: FitFailedWarning: Estimator fit failed. The score on this train-test partition for these parameters will be set to nan. Details: \n",
      "TypeError: object of type 'type' has no len()\n",
      "\n",
      "  FitFailedWarning)\n"
     ]
    },
    {
     "name": "stdout",
     "output_type": "stream",
     "text": [
      "Logistic.coef_: [[-3.83534835  6.00063261 -2.90627609  0.14385848 -0.59298014 -0.35521888\n",
      "   0.14710228  0.07783284  0.08659374 -1.26979267  0.08224473  0.44093003\n",
      "  -0.65717066  0.05653248  0.06467354  0.20202108 -0.09591426 -0.02882477\n",
      "   0.07560338 -0.06199622  0.19199084  0.00805476  0.06163064  0.01402459\n",
      "  -0.21341569 -0.12215494 -0.04106945 -0.01768031 -0.5114578  -0.38071094\n",
      "   1.17209303  0.50916824 -0.16891966 -0.45909784 -0.5430515  -0.09722884\n",
      "  -0.06994178 -0.04443884  0.31651267  0.08778057  0.52670834]]\n",
      "Logistic.intercept_: [-0.27811183]\n",
      "\n",
      "Best parameters: {'class_weight': <class 'dict'>, 'fit_intercept': False, 'penalty': 'l2', 'solver': 'newton-cg'}\n",
      "Best cross-validation score: 0.82\n",
      "Logisitc Model score: 0.86\n"
     ]
    }
   ],
   "source": [
    "# Logistic regression model with hyperparameter tuning\n",
    "\n",
    "from sklearn.linear_model import LogisticRegression\n",
    "from sklearn.model_selection import cross_val_score\n",
    "from sklearn.model_selection import GridSearchCV\n",
    "from sklearn.metrics import mean_squared_error, r2_score\n",
    "from math import sqrt\n",
    "clf = LogisticRegression(dual=False).fit(X_train, y_train)\n",
    "params = { 'penalty':['l2'], \n",
    "          'fit_intercept':[True,False],\n",
    "          'class_weight':[dict,'balanced'], 'solver':['newton-cg','liblinear', 'sag', 'saga']}\n",
    "grid_lg = GridSearchCV(clf, params, cv=5, return_train_score = True)\n",
    "grid_lg.fit(X_train, y_train)\n",
    "test_preds=grid_lg.predict(X_test)\n",
    "\n",
    "# Print Co-efficients\n",
    "print(\"Logistic.coef_:\", clf.coef_)\n",
    "print(\"Logistic.intercept_:\", clf.intercept_)\n",
    "print()\n",
    "print(\"Best parameters: {}\".format(grid_lg.best_params_))\n",
    "print(\"Best cross-validation score: {:.2f}\".format(grid_lg.best_score_))\n",
    "print(\"Logisitc Model score: {:.2f}\".format(fbeta_score(y_test,test_preds,beta=0.2)))\n"
   ]
  },
  {
   "cell_type": "code",
   "execution_count": 1267,
   "metadata": {},
   "outputs": [
    {
     "name": "stdout",
     "output_type": "stream",
     "text": [
      "Best Mean Cross-validation score: 0.71\n",
      "\n",
      "KNN parameters:  {'n_neighbors': 20}\n",
      "KNN Test Performance:  0.7016491754122938\n"
     ]
    }
   ],
   "source": [
    "#KNN Model\n",
    "\n",
    "from sklearn.model_selection import GridSearchCV\n",
    "from sklearn.neighbors import KNeighborsClassifier\n",
    "\n",
    "knn = KNeighborsClassifier()\n",
    "\n",
    "# define a list of parameters\n",
    "\n",
    "param_knn = {'n_neighbors': range(5,25)}\n",
    "\n",
    "#apply grid search\n",
    "grid_knn = GridSearchCV(knn, param_knn, cv=5, return_train_score=True,scoring=ftwo_scorer)\n",
    "grid_knn.fit(X_train, y_train)\n",
    "\n",
    "# Mean Cross Validation Score\n",
    "print(\"Best Mean Cross-validation score: {:.2f}\".format(grid_knn.best_score_))\n",
    "print()\n",
    "\n",
    "#find best parameters\n",
    "print('KNN parameters: ', grid_knn.best_params_)\n",
    "\n",
    "# Check test data set performance\n",
    "print(\"KNN Test Performance: \", grid_knn.score(X_test,y_test))"
   ]
  },
  {
   "cell_type": "code",
   "execution_count": 1305,
   "metadata": {},
   "outputs": [
    {
     "name": "stdout",
     "output_type": "stream",
     "text": [
      "Best parameters: {'algorithm': 'auto', 'leaf_size': 10, 'n_neighbors': 24, 'weights': 'distance'}\n",
      "Best cross-validation score: 0.73\n",
      "KNN Test Performance:  0.7008086253369272\n"
     ]
    }
   ],
   "source": [
    "#KNN Model with Hyperparamter tuning\n",
    "from sklearn.model_selection import GridSearchCV\n",
    "from sklearn.neighbors import KNeighborsClassifier\n",
    "\n",
    "knn = KNeighborsClassifier()\n",
    "param_knn = {'n_neighbors': range(1,25), 'weights': ['uniform','distance'], \n",
    "             'algorithm':['auto', 'ball_tree', 'kd_tree', 'brute'], 'leaf_size':[10,20,30,40,50]}\n",
    "grid_knn1 = GridSearchCV(knn, param_knn, cv=5, return_train_score=True,scoring=ftwo_scorer)\n",
    "grid_knn1.fit(X_train, y_train)\n",
    "\n",
    "print(\"Best parameters: {}\".format(grid_knn1.best_params_))\n",
    "print(\"Best cross-validation score: {:.2f}\".format(grid_knn1.best_score_))\n",
    "print(\"KNN Test Performance: \", grid_knn1.score(X_test,y_test))"
   ]
  },
  {
   "cell_type": "code",
   "execution_count": 1344,
   "metadata": {},
   "outputs": [
    {
     "name": "stdout",
     "output_type": "stream",
     "text": [
      "Best Mean Cross-validation score: 0.864\n",
      "\n",
      "Decision Tree parameters:  {'max_depth': 1}\n",
      "Decision Tree Performance:  0.8528584817244611\n"
     ]
    }
   ],
   "source": [
    "#Decision Tree\n",
    "from sklearn.tree import DecisionTreeClassifier\n",
    "dtree = DecisionTreeClassifier(random_state=0)\n",
    "\n",
    "#define a list of parameters\n",
    "param_dtree = {'max_depth': range(1,20)}\n",
    "\n",
    "#apply grid search\n",
    "grid_dtree = GridSearchCV(dtree, param_dtree, cv=5, return_train_score = True,scoring=ftwo_scorer)\n",
    "grid_dtree.fit(X_train, y_train)\n",
    "print(\"Best Mean Cross-validation score: {:.3f}\".format(grid_dtree.best_score_))\n",
    "print()\n",
    "\n",
    "#find best parameters\n",
    "print('Decision Tree parameters: ', grid_dtree.best_params_)\n",
    "print(\"Decision Tree Performance: \", grid_dtree.score(X_test,y_test))"
   ]
  },
  {
   "cell_type": "code",
   "execution_count": 1350,
   "metadata": {},
   "outputs": [
    {
     "name": "stdout",
     "output_type": "stream",
     "text": [
      "Best Mean Cross-validation score: 0.864\n",
      "\n",
      "Decision Tree parameters:  {'class_weight': {0: 10, 1: 1}, 'max_depth': 4, 'splitter': 'random'}\n",
      "Decision Tree Train Performance:  0.8660251665433013\n",
      "Decision Tree Test Performance:  0.8528584817244611\n"
     ]
    }
   ],
   "source": [
    "#Decision Tree with hyperparameter tuning\n",
    "from sklearn.tree import DecisionTreeClassifier\n",
    "dtree = DecisionTreeClassifier(criterion='gini',random_state=0)\n",
    "param_DT = {'splitter':['best','random'],\"max_depth\": range(1,20),'class_weight':[{0:100,1:1}, {0:10,1:1}, {0:1,1:1}, {0:1,1:10}, {0:1,1:100},'balanced']}\n",
    "grid_dtree1 = GridSearchCV(dtree, param_DT, cv=5, return_train_score = True,scoring=ftwo_scorer)\n",
    "grid_dtree1.fit(X_train, y_train)\n",
    "print(\"Best Mean Cross-validation score: {:.3f}\".format(grid_dtree1.best_score_))\n",
    "print()\n",
    "\n",
    "#find best parameters\n",
    "print('Decision Tree parameters: ', grid_dtree1.best_params_)\n",
    "print(\"Decision Tree Train Performance: \", grid_dtree1.score(X_train,y_train))\n",
    "# Check test data set performance\n",
    "print(\"Decision Tree Test Performance: \", grid_dtree1.score(X_test,y_test))"
   ]
  },
  {
   "cell_type": "code",
   "execution_count": 1290,
   "metadata": {},
   "outputs": [
    {
     "name": "stdout",
     "output_type": "stream",
     "text": [
      "Best parameters: {'C': 0.01, 'kernel': 'linear'}\n",
      "Best cross-validation score: 0.86\n",
      "Linear SVM Performance:  0.8528584817244611\n"
     ]
    }
   ],
   "source": [
    "#SVM\n",
    "from sklearn.svm import SVC\n",
    "param_grid = [{'kernel': ['linear'],\n",
    "               'C': [0.001, 0.01, 0.1, 1, 10, 100]}]\n",
    "svc = SVC()\n",
    "grid_svc = GridSearchCV(svc, param_grid, cv=5, n_jobs=2, return_train_score=True,scoring=ftwo_scorer)\n",
    "grid_svc.fit(X_train, y_train)\n",
    "print(\"Best parameters: {}\".format(grid_svc.best_params_))\n",
    "print(\"Best cross-validation score: {:.2f}\".format(grid_svc.best_score_))\n",
    "print(\"Linear SVM Performance: \", grid_svc.score(X_test,y_test))"
   ]
  },
  {
   "cell_type": "code",
   "execution_count": 1291,
   "metadata": {},
   "outputs": [
    {
     "name": "stdout",
     "output_type": "stream",
     "text": [
      "Best parameters: {'C': 0.1, 'gamma': 0.1, 'kernel': 'rbf'}\n",
      "Best cross-validation score: 0.86\n",
      "SVM Performance:  0.8528584817244611\n"
     ]
    }
   ],
   "source": [
    "#SVM with kernel\n",
    "from sklearn.svm import SVC\n",
    "param_grid = [{'kernel': ['rbf'],\n",
    "               'C': [0.001, 0.01, 0.1, 1, 10, 100],\n",
    "               'gamma': [0.001, 0.01, 0.1, 1, 10, 100]}]\n",
    "svc = SVC()\n",
    "grid_svc = GridSearchCV(svc, param_grid, cv=5, n_jobs=2, return_train_score=True,scoring=ftwo_scorer)\n",
    "grid_svc.fit(X_train, y_train)\n",
    "#Model Performance\n",
    "print(\"Best parameters: {}\".format(grid_svc.best_params_))\n",
    "print(\"Best cross-validation score: {:.2f}\".format(grid_svc.best_score_))\n",
    "print(\"SVM Performance: \", grid_svc.score(X_test,y_test))"
   ]
  },
  {
   "cell_type": "code",
   "execution_count": null,
   "metadata": {},
   "outputs": [],
   "source": [
    "#Computational time too High\n",
    "from sklearn.svm import SVC\n",
    "param_grid = [{'kernel': ['sigmoid'],\n",
    "               'C': [0.001, 0.01, 0.1, 1, 10, 100],\n",
    "               'gamma': [0.001, 0.01, 0.1, 1, 10, 100]}]\n",
    "svc = SVC()\n",
    "grid_svc = GridSearchCV(svc, param_grid, cv=5, n_jobs=2, return_train_score=True,scoring=ftwo_scorer)\n",
    "grid_svc.fit(X_train, y_train)\n",
    "\n",
    "\n",
    "#Model Performance\n",
    "print(\"Best parameters: {}\".format(grid_svc.best_params_))\n",
    "print(\"Best cross-validation score: {:.2f}\".format(grid_svc.best_score_))\n",
    "print(\"Linear SVM Performance: \", grid_svc.score(X_test,y_test))"
   ]
  },
  {
   "cell_type": "code",
   "execution_count": null,
   "metadata": {},
   "outputs": [],
   "source": [
    "#Computational time too High\n",
    "from sklearn.svm import SVC\n",
    "param_grid = [{'kernel': ['poly'],\n",
    "               'C': [0.001, 0.01, 0.1, 1, 10, 100],\n",
    "               'gamma': [0.001, 0.01, 0.1, 1, 10, 100]}]\n",
    "svc = SVC()\n",
    "grid_svc = GridSearchCV(svc, param_grid, cv=5, n_jobs=2, return_train_score=True,scoring=ftwo_scorer)\n",
    "grid_svc.fit(X_train, y_train)\n",
    "\n",
    "\n",
    "#Model Performance\n",
    "print(\"Best parameters: {}\".format(grid_svc.best_params_))\n",
    "print(\"Best cross-validation score: {:.2f}\".format(grid_svc.best_score_))\n",
    "print(\"Linear SVM Performance: \", grid_svc.score(X_test,y_test))"
   ]
  },
  {
   "cell_type": "code",
   "execution_count": null,
   "metadata": {},
   "outputs": [],
   "source": [
    "#Bagging with decision tree\n",
    "from sklearn.ensemble import BaggingClassifier\n",
    "from sklearn.tree import DecisionTreeClassifier\n",
    "from sklearn.model_selection import cross_val_score\n",
    "from sklearn.metrics import mean_squared_error, r2_score\n",
    "from sklearn.model_selection import GridSearchCV\n",
    "\n",
    "bag_dtree1 = BaggingClassifier(base_estimator=DecisionTreeClassifier(), bootstrap=True, random_state=0, oob_score=True)\n",
    "\n",
    "bag_dtree1_param = {\n",
    "                 'base_estimator__max_depth': range(1,10),\n",
    "                 'base_estimator__criterion': ['gini','entropy'],\n",
    "                 'base_estimator__splitter': ['best','random'],\n",
    "                 'base_estimator__max_features': ['auto','sqrt','log2'],\n",
    "                 'max_samples':  [0.8,1],\n",
    "                 'n_estimators': [20,25,50]}\n",
    "bag_dtree1_grid = GridSearchCV(bag_dtree1, bag_dtree1_param,cv=5, return_train_score=True )\n",
    "bag_dtree1_grid.fit(X_train,y_train)"
   ]
  },
  {
   "cell_type": "code",
   "execution_count": 1292,
   "metadata": {},
   "outputs": [
    {
     "name": "stdout",
     "output_type": "stream",
     "text": [
      "Best Mean Cross Validation Score is 0.8193333333333331\n",
      "Best Mean Cross Validation Score is {'base_estimator__criterion': 'gini', 'base_estimator__max_depth': 9, 'base_estimator__max_features': 'auto', 'base_estimator__splitter': 'random', 'max_samples': 0.8, 'n_estimators': 25}\n",
      "Model Performance\n",
      "The test score is:0.853\n",
      "The train score is:0.867\n"
     ]
    }
   ],
   "source": [
    "print(f'Best Mean Cross Validation Score is {bag_dtree1_grid.best_score_}')\n",
    "print(f'Best Mean Cross Validation Score is {bag_dtree1_grid.best_params_}')\n",
    "print(f'Model Performance')\n",
    "scoring(bag_dtree1_grid)"
   ]
  },
  {
   "cell_type": "code",
   "execution_count": null,
   "metadata": {},
   "outputs": [],
   "source": [
    "#Bagging with logistic regression (Previously obtained best model)\n",
    "bag_logreg1 = BaggingClassifier(base_estimator=LogisticRegression(C=1, class_weight='dict', dual=False, fit_intercept= False, penalty='l2', solver='saga'), bootstrap=True, random_state=0, oob_score=True)\n",
    "\n",
    "bag_logreg1_param = {\n",
    "                 'max_samples':  [0.8,1],\n",
    "                 'n_estimators': [25,50,100,150]}\n",
    "bag_logreg1_grid = GridSearchCV(bag_logreg1, bag_logreg1_param,cv=5, return_train_score=True )\n",
    "bag_logreg1_grid.fit(X_train,y_train)"
   ]
  },
  {
   "cell_type": "code",
   "execution_count": 1293,
   "metadata": {},
   "outputs": [
    {
     "name": "stdout",
     "output_type": "stream",
     "text": [
      "Best Mean Cross Validation Score is 0.8188888888888888\n",
      "Best Mean Cross Validation Score is {'max_samples': 0.8, 'n_estimators': 50}\n",
      "Model Peformance is:\n",
      "The test score is:0.857\n",
      "The train score is:0.863\n"
     ]
    }
   ],
   "source": [
    "print(f'Best Mean Cross Validation Score is {bag_logreg1_grid.best_score_}')\n",
    "print(f'Best Mean Cross Validation Score is {bag_logreg1_grid.best_params_}')\n",
    "print(f'Model Peformance is:')\n",
    "scoring(bag_logreg1_grid)"
   ]
  },
  {
   "cell_type": "code",
   "execution_count": null,
   "metadata": {},
   "outputs": [],
   "source": [
    "#Pasting with Decision Tree\n",
    "paste_dtree1 = BaggingClassifier(base_estimator=DecisionTreeClassifier(), bootstrap=False, random_state=0, oob_score=False)\n",
    "\n",
    "paste_dtree1_param = {\n",
    "                 'base_estimator__max_depth': range(1,10),\n",
    "                 'max_samples':  [0.8,1],\n",
    "                 'n_estimators': [10,25,100]}\n",
    "paste_dtree1_grid = GridSearchCV(paste_dtree1, paste_dtree1_param,cv=5, return_train_score=True, )\n",
    "paste_dtree1_grid.fit(X_train,y_train)"
   ]
  },
  {
   "cell_type": "code",
   "execution_count": 1294,
   "metadata": {},
   "outputs": [
    {
     "name": "stdout",
     "output_type": "stream",
     "text": [
      "Best Mean Cross Validation Score is 0.8187777777777778\n",
      "Best Mean Cross Validation Score is {'base_estimator__max_depth': 5, 'max_samples': 0.8, 'n_estimators': 10}\n",
      "Model Peformance is:\n",
      "The test score is:0.857\n",
      "The train score is:0.865\n"
     ]
    }
   ],
   "source": [
    "print(f'Best Mean Cross Validation Score is {paste_dtree1_grid.best_score_}')\n",
    "print(f'Best Mean Cross Validation Score is {paste_dtree1_grid.best_params_}')\n",
    "print(f'Model Peformance is:')\n",
    "scoring(paste_dtree1_grid)"
   ]
  },
  {
   "cell_type": "code",
   "execution_count": null,
   "metadata": {},
   "outputs": [],
   "source": [
    "#Pasting with Decision tree with predefined Hyperparamters\n",
    "paste_dtree2 = BaggingClassifier(base_estimator=DecisionTreeClassifier(max_depth= 8, max_leaf_nodes=5, min_samples_split= 3, splitter= 'random'), bootstrap=False, random_state=0, oob_score=False)\n",
    "\n",
    "paste_dtree2_param = {\n",
    "                 'max_samples':  [0.8,1],\n",
    "                 'n_estimators': [10,25,100]}\n",
    "paste_dtree2_grid = GridSearchCV(paste_dtree2, paste_dtree2_param,cv=5, return_train_score=True, )\n",
    "paste_dtree2_grid.fit(X_train,y_train)"
   ]
  },
  {
   "cell_type": "code",
   "execution_count": 1295,
   "metadata": {},
   "outputs": [
    {
     "name": "stdout",
     "output_type": "stream",
     "text": [
      "Best Mean Cross Validation Score is 0.8186666666666668\n",
      "Best Mean Cross Validation Score is {'max_samples': 0.8, 'n_estimators': 10}\n",
      "Model Peformance is:\n",
      "The test score is:0.853\n",
      "The train score is:0.865\n"
     ]
    }
   ],
   "source": [
    "print(f'Best Mean Cross Validation Score is {paste_dtree2_grid.best_score_}')\n",
    "print(f'Best Mean Cross Validation Score is {paste_dtree2_grid.best_params_}')\n",
    "print(f'Model Peformance is:')\n",
    "scoring(paste_dtree2_grid)"
   ]
  },
  {
   "cell_type": "code",
   "execution_count": null,
   "metadata": {},
   "outputs": [],
   "source": [
    "#Pasting with logistic regression (Previously obtained best model)\n",
    "#Computational time too High\n",
    "paste_logreg1 = BaggingClassifier(base_estimator=LogisticRegression(C=1, class_weight='dict', dual=False, fit_intercept= True, penalty='l2', solver='newton-cg'), bootstrap=False, random_state=0, oob_score=False)\n",
    "\n",
    "paste_logreg1_param = {\n",
    "                 'max_samples':  [0.8,1],\n",
    "                 'n_estimators': [10,25,100]}\n",
    "paste_logreg1_grid = GridSearchCV(paste_logreg1, paste_logreg1_param,cv=5, return_train_score=True,scoring=ftwo_scorer)\n",
    "paste_logreg1_grid.fit(X_train,y_train)\n",
    "print(f'Best Mean Cross Validation Score is {bag_dtree1_grid.best_score_}')\n",
    "print(f'Best Mean Cross Validation Score is {bag_dtree1_grid.best_params_}')\n",
    "print(f'Train score is {bag_dtree1_grid.score(X_train,y_train)}')\n",
    "print(f'Test score is {bag_dtree1_grid.score(X_test,y_test)}')"
   ]
  },
  {
   "cell_type": "code",
   "execution_count": null,
   "metadata": {},
   "outputs": [],
   "source": [
    "#Randomforest Regressor\n",
    "from sklearn.ensemble import RandomForestClassifier\n",
    "rfc =RandomForestClassifier(random_state=42)\n",
    "rfc_param = { \n",
    "     'criterion': ['gini','entropy'],\n",
    "    'n_estimators': [100,200,500,700],\n",
    "    'max_features': ['auto', 'sqrt', 'log2'],\n",
    "    'max_depth' : range(1,10),\n",
    "    'bootstrap':[True,False],\n",
    "   \n",
    "}\n",
    "\n",
    "rfc_grid = GridSearchCV(rfc, rfc_param,cv=5, return_train_score=True, )\n",
    "rfc_grid.fit(X_train,y_train)"
   ]
  },
  {
   "cell_type": "code",
   "execution_count": 1296,
   "metadata": {},
   "outputs": [
    {
     "name": "stdout",
     "output_type": "stream",
     "text": [
      "Best Mean Cross Validation Score is 0.8190000000000002\n",
      "Best Mean Cross Validation Score is {'bootstrap': False, 'criterion': 'gini', 'max_depth': 9, 'max_features': 'auto', 'n_estimators': 500}\n",
      "Model Peformance is:\n",
      "The test score is:0.857\n",
      "The train score is:0.871\n"
     ]
    }
   ],
   "source": [
    "print(f'Best Mean Cross Validation Score is {rfc_grid.best_score_}')\n",
    "print(f'Best Mean Cross Validation Score is {rfc_grid.best_params_}')\n",
    "print(f'Model Peformance is:')\n",
    "scoring(rfc_grid)"
   ]
  },
  {
   "cell_type": "code",
   "execution_count": null,
   "metadata": {},
   "outputs": [],
   "source": [
    "#ExtraTrees\n",
    "from  sklearn.ensemble import ExtraTreesClassifier\n",
    "etc= ExtraTreesClassifier(random_state=42)\n",
    "etc_param = { \n",
    "    'n_estimators': [200, 500],\n",
    "    'max_features': ['auto', 'sqrt', 'log2'],\n",
    "    'max_depth' : [2,4,5,6,7,8],\n",
    "    'criterion' :['gini', 'entropy']\n",
    "}\n",
    "etc_grid = GridSearchCV(etc, etc_param,cv=5, return_train_score=True, )\n",
    "etc_grid.fit(X_train,y_train)\n"
   ]
  },
  {
   "cell_type": "code",
   "execution_count": 1297,
   "metadata": {},
   "outputs": [
    {
     "name": "stdout",
     "output_type": "stream",
     "text": [
      "Best Mean Cross Validation Score is 0.818888888888889\n",
      "Best Mean Cross Validation Score is {'criterion': 'gini', 'max_depth': 8, 'max_features': 'auto', 'n_estimators': 500}\n",
      "Model Peformance is:\n",
      "The test score is:0.857\n",
      "The train score is:0.869\n"
     ]
    }
   ],
   "source": [
    "print(f'Best Mean Cross Validation Score is {etc_grid.best_score_}')\n",
    "print(f'Best Mean Cross Validation Score is {etc_grid.best_params_}')\n",
    "print(f'Model Peformance is:')\n",
    "scoring(etc_grid)"
   ]
  },
  {
   "cell_type": "code",
   "execution_count": null,
   "metadata": {},
   "outputs": [],
   "source": [
    "#Gradient Boosting\n",
    "from  sklearn.ensemble import GradientBoostingClassifier\n",
    "gbc= GradientBoostingClassifier(random_state=42)\n",
    "gbc_param = {\n",
    "              'loss': ['deviance','exponential'],\n",
    "              'max_depth': range(1,10),\n",
    "              'n_estimators' : [100,150],\n",
    "              'learning_rate' : [0.001,0.01,0.5,1.0,2],\n",
    "              'max_features':['auto','sqrt','log2']\n",
    "             }\n",
    "gbc_grid = GridSearchCV(gbc, gbc_param,cv=5, return_train_score=True, )\n",
    "gbc_grid.fit(X_train,y_train)\n"
   ]
  },
  {
   "cell_type": "code",
   "execution_count": 1299,
   "metadata": {},
   "outputs": [
    {
     "name": "stdout",
     "output_type": "stream",
     "text": [
      "Best Mean Cross Validation Score is 0.819\n",
      "Best Mean Cross Validation Score is {'learning_rate': 0.01, 'loss': 'deviance', 'max_depth': 6, 'max_features': 'auto', 'n_estimators': 150}\n",
      "Model Peformance is:\n",
      "The test score is:0.857\n",
      "The train score is:0.871\n"
     ]
    }
   ],
   "source": [
    "print(f'Best Mean Cross Validation Score is {gbc_grid.best_score_}')\n",
    "print(f'Best Mean Cross Validation Score is {gbc_grid.best_params_}')\n",
    "print(f'Model Peformance is:')\n",
    "scoring(gbc_grid)"
   ]
  },
  {
   "cell_type": "code",
   "execution_count": null,
   "metadata": {},
   "outputs": [],
   "source": [
    "#XGboost\n",
    "from xgboost import XGBClassifier\n",
    "xgbc= XGBClassifier(random_state=42,early_stopping_rounds=2)\n",
    "xgbc_param = {\n",
    "              'max_depth' : range(1,10),\n",
    "              'n_estimators' : [50,100,150],\n",
    "              'learning_rate' : [0.1,0.5,0.6,0.8],\n",
    "              'min_child_weight' : range(1,10),\n",
    "              'subsample':[0.6,0.7,0.8,0.9,1],\n",
    "             }\n",
    "xgbc_grid = GridSearchCV(xgbc, xgbc_param,cv=5, return_train_score=True, )\n",
    "xgbc_grid.fit(X_train,y_train)"
   ]
  },
  {
   "cell_type": "code",
   "execution_count": 1300,
   "metadata": {},
   "outputs": [
    {
     "name": "stdout",
     "output_type": "stream",
     "text": [
      "Best Mean Cross Validation Score is 0.82\n",
      "Best Mean Cross Validation Score is {'learning_rate': 0.1, 'max_depth': 3, 'min_child_weight': 1, 'n_estimators': 100, 'subsample': 0.8}\n",
      "Model Peformance is:\n",
      "The test score is:0.838\n",
      "The train score is:0.866\n"
     ]
    }
   ],
   "source": [
    "print(f'Best Mean Cross Validation Score is {xgbc_grid.best_score_}')\n",
    "print(f'Best Mean Cross Validation Score is {xgbc_grid.best_params_}')\n",
    "print(f'Model Peformance is:')\n",
    "scoring(xgbc_grid)"
   ]
  },
  {
   "cell_type": "code",
   "execution_count": 1349,
   "metadata": {},
   "outputs": [
    {
     "data": {
      "text/html": [
       "<div>\n",
       "<style scoped>\n",
       "    .dataframe tbody tr th:only-of-type {\n",
       "        vertical-align: middle;\n",
       "    }\n",
       "\n",
       "    .dataframe tbody tr th {\n",
       "        vertical-align: top;\n",
       "    }\n",
       "\n",
       "    .dataframe thead th {\n",
       "        text-align: right;\n",
       "    }\n",
       "</style>\n",
       "<table border=\"1\" class=\"dataframe\">\n",
       "  <thead>\n",
       "    <tr style=\"text-align: right;\">\n",
       "      <th></th>\n",
       "      <th>model</th>\n",
       "      <th>mean</th>\n",
       "      <th>std</th>\n",
       "    </tr>\n",
       "  </thead>\n",
       "  <tbody>\n",
       "    <tr>\n",
       "      <th>3</th>\n",
       "      <td>dtree1</td>\n",
       "      <td>0.864451</td>\n",
       "      <td>0.010881</td>\n",
       "    </tr>\n",
       "    <tr>\n",
       "      <th>2</th>\n",
       "      <td>dtree</td>\n",
       "      <td>0.864312</td>\n",
       "      <td>0.010550</td>\n",
       "    </tr>\n",
       "    <tr>\n",
       "      <th>12</th>\n",
       "      <td>sc</td>\n",
       "      <td>0.861967</td>\n",
       "      <td>0.004382</td>\n",
       "    </tr>\n",
       "    <tr>\n",
       "      <th>13</th>\n",
       "      <td>sc1</td>\n",
       "      <td>0.857257</td>\n",
       "      <td>0.012567</td>\n",
       "    </tr>\n",
       "    <tr>\n",
       "      <th>11</th>\n",
       "      <td>xgbc</td>\n",
       "      <td>0.820000</td>\n",
       "      <td>0.003315</td>\n",
       "    </tr>\n",
       "    <tr>\n",
       "      <th>4</th>\n",
       "      <td>bag_dtree1</td>\n",
       "      <td>0.819333</td>\n",
       "      <td>0.003658</td>\n",
       "    </tr>\n",
       "    <tr>\n",
       "      <th>8</th>\n",
       "      <td>rfc</td>\n",
       "      <td>0.819000</td>\n",
       "      <td>0.003709</td>\n",
       "    </tr>\n",
       "    <tr>\n",
       "      <th>10</th>\n",
       "      <td>gbc</td>\n",
       "      <td>0.819000</td>\n",
       "      <td>0.003247</td>\n",
       "    </tr>\n",
       "    <tr>\n",
       "      <th>9</th>\n",
       "      <td>etrees</td>\n",
       "      <td>0.818889</td>\n",
       "      <td>0.003549</td>\n",
       "    </tr>\n",
       "    <tr>\n",
       "      <th>5</th>\n",
       "      <td>bag_logreg1</td>\n",
       "      <td>0.818889</td>\n",
       "      <td>0.002789</td>\n",
       "    </tr>\n",
       "    <tr>\n",
       "      <th>6</th>\n",
       "      <td>paste_dtree1</td>\n",
       "      <td>0.818778</td>\n",
       "      <td>0.003468</td>\n",
       "    </tr>\n",
       "    <tr>\n",
       "      <th>1</th>\n",
       "      <td>logreg</td>\n",
       "      <td>0.818778</td>\n",
       "      <td>0.002927</td>\n",
       "    </tr>\n",
       "    <tr>\n",
       "      <th>7</th>\n",
       "      <td>paste_dtree2</td>\n",
       "      <td>0.818667</td>\n",
       "      <td>0.003307</td>\n",
       "    </tr>\n",
       "    <tr>\n",
       "      <th>0</th>\n",
       "      <td>knn</td>\n",
       "      <td>0.710965</td>\n",
       "      <td>0.030779</td>\n",
       "    </tr>\n",
       "  </tbody>\n",
       "</table>\n",
       "</div>"
      ],
      "text/plain": [
       "           model      mean       std\n",
       "3         dtree1  0.864451  0.010881\n",
       "2          dtree  0.864312  0.010550\n",
       "12            sc  0.861967  0.004382\n",
       "13           sc1  0.857257  0.012567\n",
       "11          xgbc  0.820000  0.003315\n",
       "4     bag_dtree1  0.819333  0.003658\n",
       "8            rfc  0.819000  0.003709\n",
       "10           gbc  0.819000  0.003247\n",
       "9         etrees  0.818889  0.003549\n",
       "5    bag_logreg1  0.818889  0.002789\n",
       "6   paste_dtree1  0.818778  0.003468\n",
       "1         logreg  0.818778  0.002927\n",
       "7   paste_dtree2  0.818667  0.003307\n",
       "0            knn  0.710965  0.030779"
      ]
     },
     "execution_count": 1349,
     "metadata": {},
     "output_type": "execute_result"
    }
   ],
   "source": [
    "classifiers={'knn':grid_knn ,\n",
    "             'logreg':grid_lg,\n",
    "             'dtree':grid_dtree,\n",
    "             'dtree1':grid_dtree1,\n",
    "             'bag_dtree1':bag_dtree1_grid,\n",
    "             'bag_logreg1':bag_logreg1_grid,\n",
    "             'paste_dtree1': paste_dtree1_grid,\n",
    "             'paste_dtree2':paste_dtree2_grid,\n",
    "             'rfc': rfc_grid ,\n",
    "             'etrees':etc_grid,\n",
    "             'gbc':gbc_grid,\n",
    "             'xgbc': xgbc_grid,\n",
    "            }\n",
    "classifiers.keys()\n",
    "results_mean_std = []\n",
    "for  key, value in classifiers.items():\n",
    "    mean = value.cv_results_['mean_test_score'][value.best_index_]\n",
    "    std=value.cv_results_['std_test_score'][value.best_index_]\n",
    "     \n",
    "    results_mean_std.append({\n",
    "        \"model\": key,\n",
    "        \"mean\": mean,\n",
    "        \"std\": std\n",
    "    })\n",
    "accuracy_df = pd.DataFrame(results_mean_std, columns=['model', 'mean', 'std'])\n",
    "accuracy_df.sort_values(by=['mean'], inplace=True,ascending=False)\n",
    "accuracy_df"
   ]
  },
  {
   "cell_type": "code",
   "execution_count": 1348,
   "metadata": {},
   "outputs": [
    {
     "name": "stdout",
     "output_type": "stream",
     "text": [
      "Best Mean Cross Validation Score is 0.8619666238758382\n",
      "Best Mean Cross Validation Score is {'final_estimator__C': 0.1, 'passthrough': True, 'stack_method': 'auto'}\n",
      "Train score is 0.8691558959629807\n",
      "Test score is 0.837958818263205\n"
     ]
    }
   ],
   "source": [
    "#Stacking Classifier\n",
    "from sklearn.ensemble import StackingClassifier\n",
    "sclf1 = StackingClassifier(estimators=\n",
    "                              [('dtree1',grid_dtree1.best_estimator_),\n",
    "                               ('dtree',grid_dtree.best_estimator_),\n",
    "                               ('xgbc', xgbc_grid.best_estimator_), \n",
    "                               ('bag_dtree1',bag_dtree1_grid.best_estimator_),\n",
    "                               ('gbc', gbc_grid.best_estimator_), \n",
    "                               ('rfc', rfc_grid .best_estimator_),\n",
    "                               #('etrees',etc_grid.best_estimator_),\n",
    "                              ], final_estimator=LogisticRegression())\n",
    "sclf1_param = {\n",
    "              'final_estimator__C' : [0.1,0.2],\n",
    "              'stack_method':['auto', 'predict_proba'],\n",
    "               'passthrough':[True,False] \n",
    "             }\n",
    "sclf1_grid = GridSearchCV(sclf1, sclf1_param,cv=5, return_train_score=True,scoring=ftwo_scorer)\n",
    "sclf1_grid.fit(X_train,y_train)\n",
    "test_preds=sclf1_grid.predict(X_test)\n",
    "\n",
    "print(f'Best Mean Cross Validation Score is {sclf1_grid.best_score_}')\n",
    "print(f'Best Mean Cross Validation Score is {sclf1_grid.best_params_}')\n",
    "print(f'Train score is {sclf1_grid.score(X_train,y_train)}')\n",
    "print(f'Test score is {sclf1_grid.score(X_test,y_test)}')\n"
   ]
  },
  {
   "cell_type": "markdown",
   "metadata": {},
   "source": [
    "# Cost Sensitive Algorithms"
   ]
  },
  {
   "cell_type": "code",
   "execution_count": 1114,
   "metadata": {},
   "outputs": [],
   "source": [
    "from numpy import mean\n",
    "from sklearn.datasets import make_classification\n",
    "from sklearn.model_selection import GridSearchCV\n",
    "from sklearn.model_selection import RepeatedStratifiedKFold\n",
    "from sklearn.linear_model import LogisticRegression\n",
    "from sklearn.tree import DecisionTreeClassifier\n",
    "from sklearn.svm import SVC\n",
    "from sklearn.model_selection import cross_val_score\n",
    "from xgboost import XGBClassifier\n",
    "from sklearn.metrics import fbeta_score, make_scorer\n",
    "precision1= make_scorer(precision_score)"
   ]
  },
  {
   "cell_type": "code",
   "execution_count": 1306,
   "metadata": {},
   "outputs": [
    {
     "name": "stdout",
     "output_type": "stream",
     "text": [
      "Best parameters: {'class_weight': {0: 10, 1: 1}}\n",
      "Best Mean cross-validation score: 0.86\n"
     ]
    }
   ],
   "source": [
    "#cost sensitive logistic regession\n",
    "param_grid = {   \n",
    "    'class_weight': [{0:100,1:1}, {0:10,1:1}, {0:1,1:1}, {0:1,1:10}, {0:1,1:100},'balanced'],\n",
    "}\n",
    "#apply grid search\n",
    "cgrid_logreg= GridSearchCV(LogisticRegression(solver='newton-cg'), param_grid, cv=5, n_jobs=2, scoring=ftwo_scorer)\n",
    "cgrid_logreg.fit(X_train, y_train)\n",
    "\n",
    "print(\"Best parameters: {}\".format(cgrid_logreg.best_params_))\n",
    "print(\"Best Mean cross-validation score: {:.2f}\".format(cgrid_logreg.best_score_))"
   ]
  },
  {
   "cell_type": "code",
   "execution_count": 1307,
   "metadata": {},
   "outputs": [
    {
     "name": "stdout",
     "output_type": "stream",
     "text": [
      "Best parameters: {'class_weight': {0: 1, 1: 1}}\n",
      "Best Mean cross-validation score: 0.86\n"
     ]
    }
   ],
   "source": [
    "#svc\n",
    "param_grid = {\n",
    "      'class_weight':[{0:100,1:1}, {0:10,1:1}, {0:1,1:1}, {0:1,1:10}, {0:1,1:100},'balanced']\n",
    "}\n",
    "#apply grid search\n",
    "cgrid_svc= GridSearchCV(SVC(), param_grid, cv=5, n_jobs=2,scoring=ftwo_scorer)\n",
    "cgrid_svc.fit(X_train, y_train1)\n",
    "\n",
    "print(\"Best parameters: {}\".format(cgrid_svc.best_params_))\n",
    "print(\"Best Mean cross-validation score: {:.2f}\".format(cgrid_svc.best_score_))"
   ]
  },
  {
   "cell_type": "code",
   "execution_count": 1308,
   "metadata": {},
   "outputs": [
    {
     "name": "stdout",
     "output_type": "stream",
     "text": [
      "Best parameters: {'class_weight': {0: 1, 1: 100}}\n",
      "Best Mean cross-validation score: 0.41\n"
     ]
    }
   ],
   "source": [
    "#decison tree\n",
    "param_grid = { \n",
    "    'class_weight': [{0:100,1:1}, {0:10,1:1}, {0:1,1:1}, {0:1,1:10}, {0:1,1:100},'balanced'],\n",
    "}\n",
    "#apply grid search\n",
    "cgrid_dtree= GridSearchCV(DecisionTreeClassifier(), param_grid, cv=5, n_jobs=2, scoring=ftwo_scorer)\n",
    "cgrid_dtree.fit(X_train, y_train)\n",
    "\n",
    "print(\"Best parameters: {}\".format(cgrid_dtree.best_params_))\n",
    "print(\"Best Mean cross-validation score: {:.2f}\".format(cgrid_dtree.best_score_))"
   ]
  },
  {
   "cell_type": "code",
   "execution_count": 1309,
   "metadata": {},
   "outputs": [
    {
     "name": "stdout",
     "output_type": "stream",
     "text": [
      "Best parameters: {'scale_pos_weight': 1}\n",
      "Best Mean cross-validation score: 0.63\n"
     ]
    }
   ],
   "source": [
    "#xgb\n",
    "param_grid = { \n",
    "    'scale_pos_weight': [1, 10, 25, 50, 75, 99, 100, 1000],\n",
    "}\n",
    "#apply grid search\n",
    "cgrid_xgboost= GridSearchCV(XGBClassifier(), param_grid, cv=5, n_jobs=2, scoring=ftwo_scorer)\n",
    "cgrid_xgboost.fit(X_train, y_train)\n",
    "\n",
    "print(\"Best parameters: {}\".format(cgrid_xgboost.best_params_))\n",
    "print(\"Best Mean cross-validation score: {:.2f}\".format(cgrid_xgboost.best_score_))"
   ]
  },
  {
   "cell_type": "code",
   "execution_count": 1310,
   "metadata": {},
   "outputs": [
    {
     "name": "stdout",
     "output_type": "stream",
     "text": [
      "Score: 0.785\n"
     ]
    }
   ],
   "source": [
    "#random forest\n",
    "from sklearn.model_selection import RepeatedStratifiedKFold\n",
    "rf = RandomForestClassifier(n_estimators=100, class_weight='balanced')\n",
    "\n",
    "cv = RepeatedStratifiedKFold(n_splits=10, n_repeats=3, random_state=1)\n",
    "\n",
    "scores = cross_val_score(rf, X_train, y_train, scoring=ftwo_scorer, cv=cv, n_jobs=-1)\n",
    "\n",
    "print('Score: %.3f' % scores.mean())"
   ]
  },
  {
   "cell_type": "code",
   "execution_count": 1311,
   "metadata": {},
   "outputs": [
    {
     "name": "stdout",
     "output_type": "stream",
     "text": [
      "Score: 0.645\n"
     ]
    }
   ],
   "source": [
    "#extratrees\n",
    "rf = ExtraTreesClassifier(n_estimators=50, class_weight='balanced')\n",
    "\n",
    "cv = RepeatedStratifiedKFold(n_splits=10, n_repeats=3, random_state=1)\n",
    "\n",
    "scores = cross_val_score(rf, X_train, y_train, scoring=ftwo_scorer, cv=cv, n_jobs=-1)\n",
    "\n",
    "print('Score: %.3f' % scores.mean())"
   ]
  },
  {
   "cell_type": "code",
   "execution_count": 1312,
   "metadata": {},
   "outputs": [
    {
     "name": "stdout",
     "output_type": "stream",
     "text": [
      "Mean ROC AUC: 0.401\n"
     ]
    }
   ],
   "source": [
    "#Bagging decision tree with under sampling\n",
    "from imblearn import under_sampling\n",
    "from imblearn.ensemble import BalancedBaggingClassifier\n",
    "\n",
    "b_dtree = BalancedBaggingClassifier()\n",
    "\n",
    "cv = RepeatedStratifiedKFold(n_splits=10, n_repeats=3, random_state=1)\n",
    "\n",
    "scores = cross_val_score(b_dtree, X_train, y_train, scoring=ftwo_scorer, cv=cv, n_jobs=-1)\n",
    "\n",
    "print('Mean ROC AUC: %.3f' % scores.mean())"
   ]
  },
  {
   "cell_type": "markdown",
   "metadata": {},
   "source": [
    "# Data Sampling Algorithms"
   ]
  },
  {
   "cell_type": "code",
   "execution_count": 1324,
   "metadata": {},
   "outputs": [
    {
     "name": "stdout",
     "output_type": "stream",
     "text": [
      "Best parameters: {'smote__k_neighbors': 1}\n",
      "Best Mean cross-validation score: 0.37\n"
     ]
    }
   ],
   "source": [
    "#logistic regression\n",
    "pipe_roc_lg = Pipeline([('smote',SMOTE()),('lg',LogisticRegression(solver='saga'))])\n",
    "param_roc_lg = {'smote__k_neighbors': [1,2,3,4,5]}\n",
    "\n",
    "ogrid_lg= GridSearchCV(pipe_roc_lg,param_roc_lg, cv=5, n_jobs=2, scoring=ftwo_scorer)\n",
    "ogrid_lg.fit(X_train, y_train)\n",
    "\n",
    "print(\"Best parameters: {}\".format(ogrid_lg.best_params_))\n",
    "print(\"Best Mean cross-validation score: {:.2f}\".format(ogrid_lg.best_score_))"
   ]
  },
  {
   "cell_type": "code",
   "execution_count": 1317,
   "metadata": {},
   "outputs": [
    {
     "name": "stdout",
     "output_type": "stream",
     "text": [
      "Best parameters: {'smote__k_neighbors': 2}\n",
      "Best Mean cross-validation score: 0.81\n"
     ]
    }
   ],
   "source": [
    "from imblearn.over_sampling import SMOTE\n",
    "from imblearn.pipeline import Pipeline\n",
    "#decisiontreee\n",
    "pipe_roc_dtree = Pipeline([('smote',SMOTE()),('dtree',DecisionTreeClassifier(max_depth=5))])\n",
    "param_roc_dtree = {'smote__k_neighbors': [1,2,3,4,5]}\n",
    "\n",
    "ogrid_dtree= GridSearchCV(pipe_roc_dtree,param_roc_dtree, cv=5, n_jobs=2, scoring=ftwo_scorer)\n",
    "ogrid_dtree.fit(X_train, y_train)\n",
    "\n",
    "print(\"Best parameters: {}\".format(ogrid_dtree.best_params_))\n",
    "print(\"Best Mean cross-validation score: {:.2f}\".format(ogrid_dtree.best_score_))"
   ]
  },
  {
   "cell_type": "code",
   "execution_count": 1318,
   "metadata": {},
   "outputs": [
    {
     "name": "stdout",
     "output_type": "stream",
     "text": [
      "Best parameters: {'smote__k_neighbors': 3}\n",
      "Best Mean cross-validation score: 0.33\n"
     ]
    }
   ],
   "source": [
    "#knn\n",
    "pipe_roc_knn = Pipeline([('smote',SMOTE()),('knn',KNeighborsClassifier(n_neighbors=6))])\n",
    "param_roc_knn = {'smote__k_neighbors': [1,2,3,4,5]}\n",
    "\n",
    "ogrid_knn= GridSearchCV(pipe_roc_knn,param_roc_knn, cv=5, n_jobs=2, scoring=ftwo_scorer)\n",
    "ogrid_knn.fit(X_train, y_train)\n",
    "\n",
    "print(\"Best parameters: {}\".format(ogrid_knn.best_params_))\n",
    "print(\"Best Mean cross-validation score: {:.2f}\".format(ogrid_knn.best_score_))"
   ]
  },
  {
   "cell_type": "code",
   "execution_count": 1319,
   "metadata": {},
   "outputs": [
    {
     "name": "stdout",
     "output_type": "stream",
     "text": [
      "Best parameters: {'smote__k_neighbors': 3}\n",
      "Best Mean cross-validation score: 0.37\n"
     ]
    }
   ],
   "source": [
    "#svm\n",
    "pipe_roc_svm = Pipeline([('smote',SMOTE()),('svm',SVC(C=10,gamma=0.1,kernel='rbf'))])\n",
    "param_roc_svm = {'smote__k_neighbors': [1,2,3,4,5]}\n",
    "\n",
    "ogrid_svm= GridSearchCV(pipe_roc_svm,param_roc_svm, cv=5, n_jobs=2,scoring=ftwo_scorer)\n",
    "ogrid_svm.fit(X_train, y_train)\n",
    "\n",
    "print(\"Best parameters: {}\".format(ogrid_svm.best_params_))\n",
    "print(\"Best Mean cross-validation score: {:.2f}\".format(ogrid_svm.best_score_))"
   ]
  },
  {
   "cell_type": "code",
   "execution_count": 1320,
   "metadata": {},
   "outputs": [
    {
     "name": "stdout",
     "output_type": "stream",
     "text": [
      "Best parameters: {'rf__max_depth': 5, 'smote__k_neighbors': 4}\n",
      "Best Mean cross-validation score: 0.43\n"
     ]
    }
   ],
   "source": [
    "#randomforest\n",
    "pipe_roc_rf = Pipeline([('smote',SMOTE()),('rf',RandomForestClassifier(n_estimators=50,criterion='gini',\n",
    "                                                                       max_features='auto'))])\n",
    "param_roc_rf = {'smote__k_neighbors': [1,2,3,4,5],\n",
    "                'rf__max_depth' : [4,5]}\n",
    "\n",
    "ogrid_rf= GridSearchCV(pipe_roc_rf,param_roc_rf, cv=5, n_jobs=2,scoring=ftwo_scorer)\n",
    "ogrid_rf.fit(X_train, y_train)\n",
    "\n",
    "print(\"Best parameters: {}\".format(ogrid_rf.best_params_))\n",
    "print(\"Best Mean cross-validation score: {:.2f}\".format(ogrid_rf.best_score_))"
   ]
  },
  {
   "cell_type": "code",
   "execution_count": 1321,
   "metadata": {},
   "outputs": [
    {
     "name": "stdout",
     "output_type": "stream",
     "text": [
      "Best parameters: {'smote__k_neighbors': 4, 'xgb__learning_rate': 0.1}\n",
      "Best Mean cross-validation score: 0.82\n"
     ]
    }
   ],
   "source": [
    "#xgb\n",
    "pipe_roc_xgb = Pipeline([('smote',SMOTE()),('xgb',XGBClassifier(random_state=42,\n",
    "                                                                            early_stopping_rounds=2,\n",
    "                                                                            n_estimators=100,\n",
    "                                                                            objective ='binary:logistic',\n",
    "                                                                            max_depth = 4,\n",
    "                                                                             ))])\n",
    "param_roc_xgb = {'smote__k_neighbors': [1,2,3,4,5],\n",
    "                 'xgb__learning_rate' : [0.1,0.5]}\n",
    "\n",
    "ogrid_xgb= GridSearchCV(pipe_roc_xgb,param_roc_xgb, cv=5, n_jobs=2, scoring=ftwo_scorer)\n",
    "ogrid_xgb.fit(X_train, y_train)\n",
    "\n",
    "print(\"Best parameters: {}\".format(ogrid_xgb.best_params_))\n",
    "print(\"Best Mean cross-validation score: {:.2f}\".format(ogrid_xgb.best_score_))"
   ]
  },
  {
   "cell_type": "code",
   "execution_count": 1322,
   "metadata": {},
   "outputs": [
    {
     "name": "stdout",
     "output_type": "stream",
     "text": [
      "Best parameters: {'smote__k_neighbors': 5}\n",
      "Best Mean cross-validation score: 0.63\n"
     ]
    }
   ],
   "source": [
    "#easy ensemble classifier\n",
    "from imblearn.ensemble import EasyEnsembleClassifier\n",
    "pipe_roc_ee = Pipeline([('smote',SMOTE()),('ee',EasyEnsembleClassifier())])\n",
    "param_roc_ee = {'smote__k_neighbors': [1,2,3,4,5]}\n",
    "\n",
    "ogrid_ee= GridSearchCV(pipe_roc_ee,param_roc_ee, cv=5, n_jobs=2, scoring=ftwo_scorer)\n",
    "ogrid_ee.fit(X_train, y_train)\n",
    "\n",
    "print(\"Best parameters: {}\".format(ogrid_ee.best_params_))\n",
    "print(\"Best Mean cross-validation score: {:.2f}\".format(ogrid_ee.best_score_))"
   ]
  },
  {
   "cell_type": "code",
   "execution_count": 1328,
   "metadata": {},
   "outputs": [
    {
     "name": "stdout",
     "output_type": "stream",
     "text": [
      "Best Mean Cross Validation Score is 0.8572573169780526\n",
      "Best Mean Cross Validation params is {'final_estimator__C': 0.2, 'stack_method': 'auto'}\n",
      "Train score is 0.8660406132113333\n",
      "Test score is 0.837958818263205\n"
     ]
    }
   ],
   "source": [
    "#top 5 estimators\n",
    "estimators_ = [('dtree',ogrid_dtree.best_estimator_),\n",
    "            ('rf',ogrid_rf.best_estimator_),('ee',ogrid_ee.best_estimator_),\n",
    "            ('lg',ogrid_lg.best_estimator_),('xgb',ogrid_xgb.best_estimator_)]\n",
    "from sklearn.ensemble import StackingClassifier\n",
    "sclf2 = StackingClassifier(estimators= estimators_\n",
    "                            , final_estimator=LogisticRegression())\n",
    "sclf2_param = {\n",
    "              'final_estimator__C' : [0.1,0.2],\n",
    "              'stack_method':['auto']\n",
    "             }\n",
    "sclf2_grid = GridSearchCV(sclf2, sclf2_param,cv=5, return_train_score=True,scoring=ftwo_scorer )\n",
    "sclf2_grid.fit(X_train,y_train)\n",
    "\n",
    "print(f'Best Mean Cross Validation Score is {sclf2_grid.best_score_}')\n",
    "print(f'Best Mean Cross Validation params is {sclf2_grid.best_params_}')\n",
    "print(f'Train score is {sclf2_grid.score(X_train,y_train)}')\n",
    "print(f'Test score is {sclf2_grid.score(X_test,y_test)}')"
   ]
  }
 ],
 "metadata": {
  "kernelspec": {
   "display_name": "buan6341_2020",
   "language": "python",
   "name": "buan6341_2020"
  },
  "language_info": {
   "codemirror_mode": {
    "name": "ipython",
    "version": 3
   },
   "file_extension": ".py",
   "mimetype": "text/x-python",
   "name": "python",
   "nbconvert_exporter": "python",
   "pygments_lexer": "ipython3",
   "version": "3.7.6"
  },
  "toc": {
   "base_numbering": 1,
   "nav_menu": {},
   "number_sections": true,
   "sideBar": true,
   "skip_h1_title": false,
   "title_cell": "Table of Contents",
   "title_sidebar": "Contents",
   "toc_cell": false,
   "toc_position": {},
   "toc_section_display": true,
   "toc_window_display": false
  }
 },
 "nbformat": 4,
 "nbformat_minor": 2
}
